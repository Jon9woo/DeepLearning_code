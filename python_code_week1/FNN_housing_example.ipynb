{
 "cells": [
  {
   "cell_type": "code",
   "execution_count": 2,
   "metadata": {},
   "outputs": [
    {
     "name": "stdout",
     "output_type": "stream",
     "text": [
      "Downloading data from https://storage.googleapis.com/tensorflow/tf-keras-datasets/boston_housing.npz\n",
      "57344/57026 [==============================] - 0s 0us/step\n"
     ]
    }
   ],
   "source": [
    "import tensorflow as tf\n",
    "from tensorflow import keras\n",
    "(train_data, train_targets), (test_data, test_targets) =keras.datasets.boston_housing.load_data()"
   ]
  },
  {
   "cell_type": "code",
   "execution_count": 3,
   "metadata": {},
   "outputs": [
    {
     "data": {
      "text/plain": [
       "(404, 13)"
      ]
     },
     "execution_count": 3,
     "metadata": {},
     "output_type": "execute_result"
    }
   ],
   "source": [
    "train_data.shape"
   ]
  },
  {
   "cell_type": "markdown",
   "metadata": {},
   "source": [
    "404개의 data points <br>\n",
    "13개의 독립변수"
   ]
  },
  {
   "cell_type": "code",
   "execution_count": 4,
   "metadata": {},
   "outputs": [
    {
     "data": {
      "text/plain": [
       "array([  1.23247,   0.     ,   8.14   ,   0.     ,   0.538  ,   6.142  ,\n",
       "        91.7    ,   3.9769 ,   4.     , 307.     ,  21.     , 396.9    ,\n",
       "        18.72   ])"
      ]
     },
     "execution_count": 4,
     "metadata": {},
     "output_type": "execute_result"
    }
   ],
   "source": [
    "train_data[0]"
   ]
  },
  {
   "cell_type": "code",
   "execution_count": 9,
   "metadata": {},
   "outputs": [
    {
     "data": {
      "text/plain": [
       "array([15.2, 42.3, 50. , 21.1, 17.7])"
      ]
     },
     "execution_count": 9,
     "metadata": {},
     "output_type": "execute_result"
    }
   ],
   "source": [
    "train_targets[:5]"
   ]
  },
  {
   "cell_type": "markdown",
   "metadata": {},
   "source": [
    "종속변수는 미국 Boston에 속한 도시들의 70년대 중반 집들의 중간값 <br>\n",
    "data point는 도시 <br>\n",
    "독립변수는 범죄율, 평균 소득 등 <br>\n",
    "10 = > $ 10K"
   ]
  },
  {
   "cell_type": "markdown",
   "metadata": {},
   "source": [
    "데이터 표준화하기"
   ]
  },
  {
   "cell_type": "code",
   "execution_count": 7,
   "metadata": {},
   "outputs": [],
   "source": [
    "from sklearn.preprocessing import StandardScaler\n",
    "scaler = StandardScaler()"
   ]
  },
  {
   "cell_type": "code",
   "execution_count": 8,
   "metadata": {},
   "outputs": [],
   "source": [
    "train_data = scaler.fit_transform(train_data)\n",
    "test_data = scaler.transform(test_data)"
   ]
  },
  {
   "cell_type": "code",
   "execution_count": 9,
   "metadata": {},
   "outputs": [],
   "source": [
    "from tensorflow.keras import models\n",
    "from tensorflow.keras import layers"
   ]
  },
  {
   "cell_type": "code",
   "execution_count": 10,
   "metadata": {},
   "outputs": [
    {
     "data": {
      "text/plain": [
       "13"
      ]
     },
     "execution_count": 10,
     "metadata": {},
     "output_type": "execute_result"
    }
   ],
   "source": [
    "train_data.shape[1]"
   ]
  },
  {
   "cell_type": "code",
   "execution_count": 11,
   "metadata": {},
   "outputs": [],
   "source": [
    "model = models.Sequential()\n",
    "# 입력층을 별도로 추가하지 않는다!\n",
    "model.add(layers.Dense(64, activation = 'relu', input_shape=(train_data.shape[1],)))\n",
    "model.add(layers.Dense(64, activation = 'relu'))\n",
    "model.add(layers.Dense(1))"
   ]
  },
  {
   "cell_type": "code",
   "execution_count": 12,
   "metadata": {},
   "outputs": [
    {
     "name": "stdout",
     "output_type": "stream",
     "text": [
      "Model: \"sequential\"\n",
      "_________________________________________________________________\n",
      "Layer (type)                 Output Shape              Param #   \n",
      "=================================================================\n",
      "dense (Dense)                (None, 64)                896       \n",
      "_________________________________________________________________\n",
      "dense_1 (Dense)              (None, 64)                4160      \n",
      "_________________________________________________________________\n",
      "dense_2 (Dense)              (None, 1)                 65        \n",
      "=================================================================\n",
      "Total params: 5,121\n",
      "Trainable params: 5,121\n",
      "Non-trainable params: 0\n",
      "_________________________________________________________________\n"
     ]
    }
   ],
   "source": [
    "model.summary()"
   ]
  },
  {
   "cell_type": "markdown",
   "metadata": {},
   "source": [
    "종속변수가 연속변수이기 때문에 마지막 layer에는 node가 하나밖에 없다. "
   ]
  },
  {
   "cell_type": "code",
   "execution_count": 13,
   "metadata": {},
   "outputs": [],
   "source": [
    "# Optimizer 종류 => https://keras.io/api/optimizers/\n",
    "adam = tf.keras.optimizers.Adam(learning_rate=0.01)"
   ]
  },
  {
   "cell_type": "code",
   "execution_count": 14,
   "metadata": {},
   "outputs": [],
   "source": [
    "model.compile(optimizer=adam, loss='mse')"
   ]
  },
  {
   "cell_type": "code",
   "execution_count": 16,
   "metadata": {
    "scrolled": true
   },
   "outputs": [
    {
     "name": "stdout",
     "output_type": "stream",
     "text": [
      "Epoch 1/80\n",
      "323/323 [==============================] - 0s 613us/step - loss: 5.5903 - val_loss: 12.9291\n",
      "Epoch 2/80\n",
      "323/323 [==============================] - 0s 565us/step - loss: 5.6019 - val_loss: 11.2037\n",
      "Epoch 3/80\n",
      "323/323 [==============================] - 0s 573us/step - loss: 6.3865 - val_loss: 12.6918\n",
      "Epoch 4/80\n",
      "323/323 [==============================] - 0s 569us/step - loss: 7.0374 - val_loss: 8.8258\n",
      "Epoch 5/80\n",
      "323/323 [==============================] - 0s 604us/step - loss: 6.0593 - val_loss: 11.6560\n",
      "Epoch 6/80\n",
      "323/323 [==============================] - 0s 657us/step - loss: 5.3678 - val_loss: 8.0752\n",
      "Epoch 7/80\n",
      "323/323 [==============================] - 0s 622us/step - loss: 5.3522 - val_loss: 9.9472\n",
      "Epoch 8/80\n",
      "323/323 [==============================] - 0s 598us/step - loss: 5.1366 - val_loss: 15.3205\n",
      "Epoch 9/80\n",
      "323/323 [==============================] - 0s 545us/step - loss: 5.5027 - val_loss: 11.4905\n",
      "Epoch 10/80\n",
      "323/323 [==============================] - 0s 561us/step - loss: 4.7957 - val_loss: 15.9216\n",
      "Epoch 11/80\n",
      "323/323 [==============================] - 0s 573us/step - loss: 5.3599 - val_loss: 9.4677\n",
      "Epoch 12/80\n",
      "323/323 [==============================] - 0s 554us/step - loss: 4.5826 - val_loss: 8.1170\n",
      "Epoch 13/80\n",
      "323/323 [==============================] - 0s 601us/step - loss: 4.7459 - val_loss: 15.2558\n",
      "Epoch 14/80\n",
      "323/323 [==============================] - 0s 623us/step - loss: 6.4670 - val_loss: 12.5746\n",
      "Epoch 15/80\n",
      "323/323 [==============================] - 0s 572us/step - loss: 6.1400 - val_loss: 22.1013\n",
      "Epoch 16/80\n",
      "323/323 [==============================] - 0s 558us/step - loss: 8.4005 - val_loss: 8.3682\n",
      "Epoch 17/80\n",
      "323/323 [==============================] - 0s 613us/step - loss: 6.4579 - val_loss: 16.5258\n",
      "Epoch 18/80\n",
      "323/323 [==============================] - 0s 557us/step - loss: 5.9437 - val_loss: 11.8343\n",
      "Epoch 19/80\n",
      "323/323 [==============================] - 0s 619us/step - loss: 4.2965 - val_loss: 7.4151\n",
      "Epoch 20/80\n",
      "323/323 [==============================] - 0s 568us/step - loss: 5.6809 - val_loss: 8.8351\n",
      "Epoch 21/80\n",
      "323/323 [==============================] - 0s 570us/step - loss: 4.4993 - val_loss: 9.9927\n",
      "Epoch 22/80\n",
      "323/323 [==============================] - 0s 678us/step - loss: 4.3522 - val_loss: 8.0330\n",
      "Epoch 23/80\n",
      "323/323 [==============================] - 0s 579us/step - loss: 5.0900 - val_loss: 15.9816\n",
      "Epoch 24/80\n",
      "323/323 [==============================] - 0s 641us/step - loss: 4.4159 - val_loss: 16.5618\n",
      "Epoch 25/80\n",
      "323/323 [==============================] - 0s 553us/step - loss: 6.2034 - val_loss: 16.2285\n",
      "Epoch 26/80\n",
      "323/323 [==============================] - 0s 548us/step - loss: 5.9576 - val_loss: 8.7602\n",
      "Epoch 27/80\n",
      "323/323 [==============================] - 0s 599us/step - loss: 4.8103 - val_loss: 10.8945\n",
      "Epoch 28/80\n",
      "323/323 [==============================] - 0s 555us/step - loss: 5.4395 - val_loss: 6.6433\n",
      "Epoch 29/80\n",
      "323/323 [==============================] - 0s 593us/step - loss: 4.8629 - val_loss: 7.1538\n",
      "Epoch 30/80\n",
      "323/323 [==============================] - 0s 622us/step - loss: 4.1094 - val_loss: 12.3693\n",
      "Epoch 31/80\n",
      "323/323 [==============================] - 0s 542us/step - loss: 4.2162 - val_loss: 13.1880\n",
      "Epoch 32/80\n",
      "323/323 [==============================] - 0s 573us/step - loss: 5.2871 - val_loss: 9.1692\n",
      "Epoch 33/80\n",
      "323/323 [==============================] - 0s 680us/step - loss: 5.0492 - val_loss: 8.4684\n",
      "Epoch 34/80\n",
      "323/323 [==============================] - 0s 576us/step - loss: 4.2878 - val_loss: 11.7543\n",
      "Epoch 35/80\n",
      "323/323 [==============================] - 0s 644us/step - loss: 5.1872 - val_loss: 12.1044\n",
      "Epoch 36/80\n",
      "323/323 [==============================] - 0s 601us/step - loss: 4.5917 - val_loss: 11.3770\n",
      "Epoch 37/80\n",
      "323/323 [==============================] - 0s 567us/step - loss: 5.5406 - val_loss: 10.6100\n",
      "Epoch 38/80\n",
      "323/323 [==============================] - 0s 582us/step - loss: 3.9310 - val_loss: 7.7383\n",
      "Epoch 39/80\n",
      "323/323 [==============================] - 0s 595us/step - loss: 4.2170 - val_loss: 13.1702\n",
      "Epoch 40/80\n",
      "323/323 [==============================] - 0s 607us/step - loss: 4.4897 - val_loss: 7.5091\n",
      "Epoch 41/80\n",
      "323/323 [==============================] - 0s 629us/step - loss: 5.0777 - val_loss: 9.1789\n",
      "Epoch 42/80\n",
      "323/323 [==============================] - 0s 576us/step - loss: 4.8447 - val_loss: 8.9045\n",
      "Epoch 43/80\n",
      "323/323 [==============================] - 0s 609us/step - loss: 4.4175 - val_loss: 10.1092\n",
      "Epoch 44/80\n",
      "323/323 [==============================] - 0s 568us/step - loss: 4.5434 - val_loss: 15.4501\n",
      "Epoch 45/80\n",
      "323/323 [==============================] - 0s 610us/step - loss: 4.9570 - val_loss: 8.0801\n",
      "Epoch 46/80\n",
      "323/323 [==============================] - 0s 601us/step - loss: 3.9852 - val_loss: 9.7267\n",
      "Epoch 47/80\n",
      "323/323 [==============================] - 0s 597us/step - loss: 3.9478 - val_loss: 15.6707\n",
      "Epoch 48/80\n",
      "323/323 [==============================] - 0s 577us/step - loss: 4.4773 - val_loss: 6.7096\n",
      "Epoch 49/80\n",
      "323/323 [==============================] - 0s 602us/step - loss: 6.1996 - val_loss: 8.8840\n",
      "Epoch 50/80\n",
      "323/323 [==============================] - 0s 638us/step - loss: 3.9795 - val_loss: 10.1471\n",
      "Epoch 51/80\n",
      "323/323 [==============================] - 0s 583us/step - loss: 3.5120 - val_loss: 8.9732\n",
      "Epoch 52/80\n",
      "323/323 [==============================] - 0s 588us/step - loss: 5.7591 - val_loss: 8.1461\n",
      "Epoch 53/80\n",
      "323/323 [==============================] - 0s 610us/step - loss: 4.2096 - val_loss: 7.8580\n",
      "Epoch 54/80\n",
      "323/323 [==============================] - 0s 592us/step - loss: 4.1107 - val_loss: 8.6518\n",
      "Epoch 55/80\n",
      "323/323 [==============================] - 0s 597us/step - loss: 3.7504 - val_loss: 8.0708\n",
      "Epoch 56/80\n",
      "323/323 [==============================] - 0s 654us/step - loss: 4.1107 - val_loss: 8.1454\n",
      "Epoch 57/80\n",
      "323/323 [==============================] - 0s 613us/step - loss: 4.5916 - val_loss: 16.6764\n",
      "Epoch 58/80\n",
      "323/323 [==============================] - 0s 612us/step - loss: 7.3557 - val_loss: 8.4502\n",
      "Epoch 59/80\n",
      "323/323 [==============================] - 0s 623us/step - loss: 5.3130 - val_loss: 7.4727\n",
      "Epoch 60/80\n",
      "323/323 [==============================] - 0s 566us/step - loss: 4.1476 - val_loss: 7.0989\n",
      "Epoch 61/80\n",
      "323/323 [==============================] - 0s 622us/step - loss: 5.0089 - val_loss: 8.2856\n",
      "Epoch 62/80\n",
      "323/323 [==============================] - 0s 564us/step - loss: 4.2020 - val_loss: 8.1206\n",
      "Epoch 63/80\n",
      "323/323 [==============================] - 0s 560us/step - loss: 4.0066 - val_loss: 7.7628\n",
      "Epoch 64/80\n",
      "323/323 [==============================] - 0s 602us/step - loss: 3.5792 - val_loss: 9.8211\n",
      "Epoch 65/80\n",
      "323/323 [==============================] - 0s 605us/step - loss: 3.7999 - val_loss: 7.7245\n",
      "Epoch 66/80\n",
      "323/323 [==============================] - 0s 582us/step - loss: 3.8892 - val_loss: 8.8204\n",
      "Epoch 67/80\n",
      "323/323 [==============================] - 0s 573us/step - loss: 4.4206 - val_loss: 8.5949\n",
      "Epoch 68/80\n",
      "323/323 [==============================] - 0s 570us/step - loss: 3.5694 - val_loss: 8.4761\n",
      "Epoch 69/80\n",
      "323/323 [==============================] - 0s 583us/step - loss: 3.5611 - val_loss: 7.2129\n",
      "Epoch 70/80\n",
      "323/323 [==============================] - 0s 579us/step - loss: 4.0418 - val_loss: 8.7146\n",
      "Epoch 71/80\n",
      "323/323 [==============================] - 0s 579us/step - loss: 3.7893 - val_loss: 12.3868\n",
      "Epoch 72/80\n",
      "323/323 [==============================] - 0s 562us/step - loss: 3.8294 - val_loss: 7.8519\n",
      "Epoch 73/80\n",
      "323/323 [==============================] - 0s 635us/step - loss: 3.8561 - val_loss: 12.0363\n",
      "Epoch 74/80\n",
      "323/323 [==============================] - 0s 578us/step - loss: 4.1294 - val_loss: 8.9245\n",
      "Epoch 75/80\n",
      "323/323 [==============================] - 0s 582us/step - loss: 5.0559 - val_loss: 16.8896\n",
      "Epoch 76/80\n",
      "323/323 [==============================] - 0s 567us/step - loss: 5.2017 - val_loss: 8.7408\n",
      "Epoch 77/80\n",
      "323/323 [==============================] - 0s 568us/step - loss: 4.3457 - val_loss: 9.1407\n",
      "Epoch 78/80\n",
      "323/323 [==============================] - 0s 568us/step - loss: 4.3040 - val_loss: 13.7347\n",
      "Epoch 79/80\n",
      "323/323 [==============================] - 0s 551us/step - loss: 4.1149 - val_loss: 8.0950\n",
      "Epoch 80/80\n"
     ]
    },
    {
     "name": "stdout",
     "output_type": "stream",
     "text": [
      "323/323 [==============================] - 0s 563us/step - loss: 3.7196 - val_loss: 8.9308\n"
     ]
    }
   ],
   "source": [
    "# model.fit(train_data, train_targets, epochs=80, batch_size=16)\n",
    "history = model.fit(train_data, train_targets, epochs=80, batch_size=1, validation_split=0.2)"
   ]
  },
  {
   "cell_type": "code",
   "execution_count": 19,
   "metadata": {},
   "outputs": [
    {
     "data": {
      "text/plain": [
       "dict_keys(['loss', 'val_loss'])"
      ]
     },
     "execution_count": 19,
     "metadata": {},
     "output_type": "execute_result"
    }
   ],
   "source": [
    "history.history.keys()"
   ]
  },
  {
   "cell_type": "markdown",
   "metadata": {},
   "source": [
    "## Loss 값 변화 살펴보기"
   ]
  },
  {
   "cell_type": "code",
   "execution_count": 23,
   "metadata": {},
   "outputs": [],
   "source": [
    "import matplotlib.pyplot as plt"
   ]
  },
  {
   "cell_type": "code",
   "execution_count": 24,
   "metadata": {},
   "outputs": [
    {
     "data": {
      "image/png": "[encoded data removed]",
      "text/plain": [
       "<Figure size 432x288 with 1 Axes>"
      ]
     },
     "metadata": {
      "needs_background": "light"
     },
     "output_type": "display_data"
    }
   ],
   "source": [
    "plt.plot(history.history['loss'])\n",
    "plt.plot(history.history['val_loss'])\n",
    "plt.xlabel('epoch')\n",
    "plt.ylabel('accuracy')\n",
    "plt.legend(['train', 'val'])\n",
    "plt.show()"
   ]
  },
  {
   "cell_type": "markdown",
   "metadata": {},
   "source": [
    "# 성능 평가하기"
   ]
  },
  {
   "cell_type": "code",
   "execution_count": 20,
   "metadata": {},
   "outputs": [],
   "source": [
    "from sklearn.metrics import r2_score"
   ]
  },
  {
   "cell_type": "code",
   "execution_count": 21,
   "metadata": {},
   "outputs": [
    {
     "data": {
      "text/plain": [
       "0.816289409651647"
      ]
     },
     "execution_count": 21,
     "metadata": {},
     "output_type": "execute_result"
    }
   ],
   "source": [
    "y_pred = model.predict(test_data)\n",
    "r2_score(test_targets, y_pred)"
   ]
  },
  {
   "cell_type": "code",
   "execution_count": null,
   "metadata": {
    "collapsed": true
   },
   "outputs": [],
   "source": []
  },
  {
   "cell_type": "code",
   "execution_count": null,
   "metadata": {
    "collapsed": true
   },
   "outputs": [],
   "source": []
  }
 ],
 "metadata": {
  "kernelspec": {
   "display_name": "Python 3",
   "language": "python",
   "name": "python3"
  },
  "language_info": {
   "codemirror_mode": {
    "name": "ipython",
    "version": 3
   },
   "file_extension": ".py",
   "mimetype": "text/x-python",
   "name": "python",
   "nbconvert_exporter": "python",
   "pygments_lexer": "ipython3",
   "version": "3.8.5"
  }
 },
 "nbformat": 4,
 "nbformat_minor": 2
}
