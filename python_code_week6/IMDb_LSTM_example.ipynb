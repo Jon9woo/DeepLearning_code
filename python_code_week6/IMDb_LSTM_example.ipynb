{
 "cells": [
  {
   "cell_type": "code",
   "execution_count": 1,
   "metadata": {},
   "outputs": [
    {
     "name": "stderr",
     "output_type": "stream",
     "text": [
      "C:\\Users\\Sang\\anaconda3\\lib\\site-packages\\tensorflow\\python\\keras\\datasets\\imdb.py:155: VisibleDeprecationWarning: Creating an ndarray from ragged nested sequences (which is a list-or-tuple of lists-or-tuples-or ndarrays with different lengths or shapes) is deprecated. If you meant to do this, you must specify 'dtype=object' when creating the ndarray\n",
      "  x_train, y_train = np.array(xs[:idx]), np.array(labels[:idx])\n",
      "C:\\Users\\Sang\\anaconda3\\lib\\site-packages\\tensorflow\\python\\keras\\datasets\\imdb.py:156: VisibleDeprecationWarning: Creating an ndarray from ragged nested sequences (which is a list-or-tuple of lists-or-tuples-or ndarrays with different lengths or shapes) is deprecated. If you meant to do this, you must specify 'dtype=object' when creating the ndarray\n",
      "  x_test, y_test = np.array(xs[idx:]), np.array(labels[idx:])\n"
     ]
    }
   ],
   "source": [
    "from tensorflow.keras.datasets import imdb\n",
    "max_features = 10000\n",
    "(x_train, y_train), (x_test, y_test) = imdb.load_data(num_words=max_features)"
   ]
  },
  {
   "cell_type": "code",
   "execution_count": 2,
   "metadata": {},
   "outputs": [],
   "source": [
    "from tensorflow.keras.preprocessing import sequence\n",
    "max_len = 500\n",
    "x_train = sequence.pad_sequences(x_train, maxlen=max_len)\n",
    "x_test = sequence.pad_sequences(x_test, maxlen=max_len)"
   ]
  },
  {
   "cell_type": "code",
   "execution_count": 3,
   "metadata": {},
   "outputs": [
    {
     "data": {
      "text/plain": [
       "(25000, 500)"
      ]
     },
     "execution_count": 3,
     "metadata": {},
     "output_type": "execute_result"
    }
   ],
   "source": [
    "x_train.shape"
   ]
  },
  {
   "cell_type": "code",
   "execution_count": 4,
   "metadata": {},
   "outputs": [
    {
     "data": {
      "text/plain": [
       "(25000,)"
      ]
     },
     "execution_count": 4,
     "metadata": {},
     "output_type": "execute_result"
    }
   ],
   "source": [
    "y_test.shape"
   ]
  },
  {
   "cell_type": "code",
   "execution_count": 5,
   "metadata": {},
   "outputs": [
    {
     "data": {
      "text/plain": [
       "(25000,)"
      ]
     },
     "execution_count": 5,
     "metadata": {},
     "output_type": "execute_result"
    }
   ],
   "source": [
    "y_train.shape"
   ]
  },
  {
   "cell_type": "code",
   "execution_count": 6,
   "metadata": {},
   "outputs": [
    {
     "data": {
      "text/plain": [
       "array([0, 1, 1, 0, 1, 1, 1, 0, 0, 1], dtype=int64)"
      ]
     },
     "execution_count": 6,
     "metadata": {},
     "output_type": "execute_result"
    }
   ],
   "source": [
    "y_test[:10]"
   ]
  },
  {
   "cell_type": "code",
   "execution_count": 7,
   "metadata": {},
   "outputs": [],
   "source": [
    "from tensorflow.keras.utils import to_categorical\n",
    "y_train_one_hot = to_categorical(y_train)\n",
    "y_test_one_hot = to_categorical(y_test)"
   ]
  },
  {
   "cell_type": "code",
   "execution_count": 8,
   "metadata": {},
   "outputs": [
    {
     "data": {
      "text/plain": [
       "(25000, 2)"
      ]
     },
     "execution_count": 8,
     "metadata": {},
     "output_type": "execute_result"
    }
   ],
   "source": [
    "y_test_one_hot.shape"
   ]
  },
  {
   "cell_type": "code",
   "execution_count": 9,
   "metadata": {},
   "outputs": [
    {
     "data": {
      "text/plain": [
       "array([1., 0.], dtype=float32)"
      ]
     },
     "execution_count": 9,
     "metadata": {},
     "output_type": "execute_result"
    }
   ],
   "source": [
    "y_test_one_hot[0]"
   ]
  },
  {
   "cell_type": "code",
   "execution_count": 10,
   "metadata": {},
   "outputs": [],
   "source": [
    "from tensorflow.keras import layers\n",
    "from tensorflow.keras import models"
   ]
  },
  {
   "cell_type": "code",
   "execution_count": 11,
   "metadata": {},
   "outputs": [
    {
     "name": "stdout",
     "output_type": "stream",
     "text": [
      "Model: \"sequential\"\n",
      "_________________________________________________________________\n",
      "Layer (type)                 Output Shape              Param #   \n",
      "=================================================================\n",
      "embedding (Embedding)        (None, None, 32)          320000    \n",
      "_________________________________________________________________\n",
      "lstm (LSTM)                  (None, 32)                8320      \n",
      "_________________________________________________________________\n",
      "dense (Dense)                (None, 2)                 66        \n",
      "=================================================================\n",
      "Total params: 328,386\n",
      "Trainable params: 328,386\n",
      "Non-trainable params: 0\n",
      "_________________________________________________________________\n"
     ]
    }
   ],
   "source": [
    "model = models.Sequential()\n",
    "model.add(layers.Embedding(max_features, 32))\n",
    "model.add(layers.LSTM(32))\n",
    "# # of parameters = 8320 = (32*32+32*32+32)+4\n",
    "model.add(layers.Dense(2, activation = 'softmax'))\n",
    "model.summary()"
   ]
  },
  {
   "cell_type": "code",
   "execution_count": 12,
   "metadata": {},
   "outputs": [],
   "source": [
    "from tensorflow.keras.optimizers import RMSprop\n",
    "model.compile(optimizer=RMSprop(learning_rate=0.001), loss='binary_crossentropy', metrics=['acc'])"
   ]
  },
  {
   "cell_type": "code",
   "execution_count": 13,
   "metadata": {},
   "outputs": [
    {
     "name": "stdout",
     "output_type": "stream",
     "text": [
      "Epoch 1/10\n",
      "157/157 [==============================] - 5s 30ms/step - loss: 0.4725 - acc: 0.7738 - val_loss: 0.3497 - val_acc: 0.8598: 3s - loss: 0.6910 -  - ETA: 2s - loss: 0 - ETA: 1s - loss: 0.5490 - acc: - ETA: 1s - loss: 0.5227 - acc:  - ETA: 0s - loss: 0.4997 - acc: 0.75 - ETA: 0s - loss: 0.4948 -\n",
      "Epoch 2/10\n",
      "157/157 [==============================] - 4s 28ms/step - loss: 0.2930 - acc: 0.8841 - val_loss: 0.2859 - val_acc: 0.8898lo - ETA: 0s - loss: 0.2995 - acc: - ETA: 0s - loss: 0.2950 - a\n",
      "Epoch 3/10\n",
      "157/157 [==============================] - 4s 28ms/step - loss: 0.2290 - acc: 0.9128 - val_loss: 0.2933 - val_acc: 0.87522s - loss: 0.2336 - a - ETA: 1s - loss: 0.23 - ETA: 0s - loss: 0.2233 - acc: - ETA: 0s - loss: 0.2269 - acc\n",
      "Epoch 4/10\n",
      "157/157 [==============================] - 4s 28ms/step - loss: 0.1966 - acc: 0.9272 - val_loss: 0.3194 - val_acc: 0.8682: 3s - loss: 0.1781 - ac - ETA: 2s - loss: 0.1850 - acc: 0.9 - ETA: 2s - loss: 0.1810 - acc:  - ET - ETA: 0s - loss: 0.1970 - acc: 0.9\n",
      "Epoch 5/10\n",
      "157/157 [==============================] - 4s 28ms/step - loss: 0.1694 - acc: 0.9391 - val_loss: 0.3273 - val_acc: 0.8646ss: 0.1693 - acc: 0.9 - ETA: 2s - loss: 0.1688 - - ETA: 1s - loss: 0.1610 - acc:  - ETA: 1s - loss: 0.1622 - acc: 0.942 - ETA: 1s - loss: 0 - ETA: 0s - loss: 0.1689 - acc: 0\n",
      "Epoch 6/10\n",
      "157/157 [==============================] - 4s 28ms/step - loss: 0.1597 - acc: 0.9423 - val_loss: 0.3013 - val_acc: 0.8814s - loss: 0.1343 - acc: 0.9 - ETA: 3s - lo - ETA: 1s - lo - ETA: 0s - loss: 0.1550 - acc: 0.943 - ETA: 0s - loss: 0.1595 - acc: 0.94\n",
      "Epoch 7/10\n",
      "157/157 [==============================] - 4s 28ms/step - loss: 0.1427 - acc: 0.9492 - val_loss: 0.3477 - val_acc: 0.8790loss: 0.1189 - acc:  - ETA: 2s - loss: 0.128 - ETA: 1s - loss:\n",
      "Epoch 8/10\n",
      "157/157 [==============================] - 4s 28ms/step - loss: 0.1350 - acc: 0.9510 - val_loss: 0.3711 - val_acc: 0.87060.1317 - ac - ETA: 2s - loss: 0.1297 - acc: 0.9 - ETA: 1s - loss: 0.130 - ETA: 0s - loss: 0.1333 \n",
      "Epoch 9/10\n",
      "157/157 [==============================] - 4s 28ms/step - loss: 0.1217 - acc: 0.9574 - val_loss: 0.3601 - val_acc: 0.88720. - ETA: 1s - loss: 0.1119 - acc: 0.961 - ETA: 1s - loss: 0.1154  - ETA: 0s - loss: 0.1186 -\n",
      "Epoch 10/10\n",
      "157/157 [==============================] - 4s 28ms/step - loss: 0.1152 - acc: 0.9582 - val_loss: 0.3796 - val_acc: 0.88181s - \n"
     ]
    }
   ],
   "source": [
    "history = model.fit(x_train, y_train_one_hot, epochs=10, batch_size=128, validation_split=0.2)"
   ]
  },
  {
   "cell_type": "code",
   "execution_count": 14,
   "metadata": {},
   "outputs": [
    {
     "data": {
      "image/png": "[encoded data removed]",
      "text/plain": [
       "<Figure size 432x288 with 1 Axes>"
      ]
     },
     "metadata": {
      "needs_background": "light"
     },
     "output_type": "display_data"
    }
   ],
   "source": [
    "import matplotlib.pyplot as plt\n",
    "plt.plot(history.history['loss'])\n",
    "plt.plot(history.history['val_loss'])\n",
    "plt.xlabel('epoch')\n",
    "plt.ylabel('loss')\n",
    "plt.legend(['train','val'])\n",
    "plt.show()"
   ]
  },
  {
   "cell_type": "code",
   "execution_count": 9,
   "metadata": {},
   "outputs": [
    {
     "name": "stdout",
     "output_type": "stream",
     "text": [
      "25000/25000 [==============================] - 50s 2ms/step\n"
     ]
    }
   ],
   "source": [
    "test_loss, test_acc = model.evaluate(x_test,y_test_one_hot)"
   ]
  },
  {
   "cell_type": "code",
   "execution_count": 10,
   "metadata": {},
   "outputs": [
    {
     "name": "stdout",
     "output_type": "stream",
     "text": [
      "test_acc: 0.86464\n"
     ]
    }
   ],
   "source": [
    "print('test_acc:', test_acc)"
   ]
  },
  {
   "cell_type": "code",
   "execution_count": null,
   "metadata": {
    "collapsed": true
   },
   "outputs": [],
   "source": []
  }
 ],
 "metadata": {
  "kernelspec": {
   "display_name": "Python 3",
   "language": "python",
   "name": "python3"
  },
  "language_info": {
   "codemirror_mode": {
    "name": "ipython",
    "version": 3
   },
   "file_extension": ".py",
   "mimetype": "text/x-python",
   "name": "python",
   "nbconvert_exporter": "python",
   "pygments_lexer": "ipython3",
   "version": "3.8.8"
  }
 },
 "nbformat": 4,
 "nbformat_minor": 2
}
