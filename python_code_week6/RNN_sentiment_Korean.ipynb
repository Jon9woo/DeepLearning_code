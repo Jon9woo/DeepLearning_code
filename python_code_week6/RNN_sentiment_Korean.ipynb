{
 "cells": [
  {
   "cell_type": "code",
   "execution_count": 6,
   "metadata": {},
   "outputs": [],
   "source": [
    "import pandas as pd\n",
    "import numpy as np\n",
    "import pickle"
   ]
  },
  {
   "cell_type": "code",
   "execution_count": 2,
   "metadata": {},
   "outputs": [],
   "source": [
    "with open(r'2016_filtered_review.txt', encoding='utf-8') as f:\n",
    "    docs = [doc.strip().split('\\t\\t') for doc in f]\n",
    "    docs = [(doc[1], int(doc[2])) for doc in docs if len(doc) == 3]\n",
    "    # To read the second and third column info from each row\n",
    "    texts, scores = zip(*docs)\n",
    "    # 둘을 분리해서 별도의 list 변수로 저장"
   ]
  },
  {
   "cell_type": "code",
   "execution_count": 3,
   "metadata": {},
   "outputs": [],
   "source": [
    "filtered_texts = []\n",
    "filtered_labels = []\n",
    "\n",
    "for text, score in zip(texts, scores):\n",
    "    if 3 <= score <= 9:\n",
    "        continue\n",
    "        \n",
    "    # 평점 기준으로 문서에 label을 부여\n",
    "    # 1 ~ 3 -> 부정, 0\n",
    "    # 9 ~ 10 -> 긍정, 1\n",
    "    filtered_texts.append(text)\n",
    "    filtered_labels.append(1 if score > 9 else 0)"
   ]
  },
  {
   "cell_type": "code",
   "execution_count": 4,
   "metadata": {},
   "outputs": [],
   "source": [
    "filtered_words = [doc.strip().split() for doc in filtered_texts]"
   ]
  },
  {
   "cell_type": "code",
   "execution_count": 5,
   "metadata": {},
   "outputs": [
    {
     "name": "stdout",
     "output_type": "stream",
     "text": [
      "[['진심', '쓰레기', '영화', '만들', '무서', '알', '쫄아', '틀었', '이건', '뭐', '웃', '거리', '없는', '쓰레기', '영화', '임'], ['역대', '좀비', '영화', '가장', '최고다', '원작', '만화', '읽어', '보려', '영화', '보고', '결정', '하려', '감독', '간츠', '실사', '했', '사람', '거르려', '그냥', '봤', '정말', '흠잡', '없는', '최고', '좀비', '영화', '잔인', '거', '싫어하지', '참고', '볼', '만하', '로미', '인물', '왜', '그런', '모르']]\n"
     ]
    }
   ],
   "source": [
    "print(filtered_words[:2])"
   ]
  },
  {
   "cell_type": "code",
   "execution_count": 7,
   "metadata": {},
   "outputs": [],
   "source": [
    "total_words = []\n",
    "for words in filtered_words:\n",
    "    total_words.extend(words)"
   ]
  },
  {
   "cell_type": "code",
   "execution_count": 8,
   "metadata": {},
   "outputs": [],
   "source": [
    "from collections import Counter\n",
    "c = Counter(total_words)"
   ]
  },
  {
   "cell_type": "code",
   "execution_count": 9,
   "metadata": {},
   "outputs": [],
   "source": [
    "max_features = 10000\n",
    "common_words = [ word for word, count in c.most_common(max_features)]"
   ]
  },
  {
   "cell_type": "code",
   "execution_count": 10,
   "metadata": {},
   "outputs": [],
   "source": [
    "words_dic ={}\n",
    "# 각 단어에 대해서 index 생성하기\n",
    "for index, word in enumerate(common_words):\n",
    "    words_dic[word]=index+1"
   ]
  },
  {
   "cell_type": "code",
   "execution_count": 13,
   "metadata": {},
   "outputs": [
    {
     "name": "stdout",
     "output_type": "stream",
     "text": [
      "['영화', '너무', '봤', '좋', '진짜', '정말', '보고', '연기', '감동', '최고', '배우', '입니', '였', '보는', '더', '했', '본', '스토리', '사람', '봐', '이', '것', '시간', '잘', '평점', '재밌게', '볼', '꼭', '재미', '점', '생각', '역시', '하는', '이런', '재밌었', '잼', '수', '기대', '있는', '그냥', '아이', '알', '말', '아니', '재밌어', '완전', '그', '할', '내용', '마지막', '넘', '왜', '돈', '나', '처음', '내', '또', '때', '보세', '좀비', '없는', '다시', '모르', '보면', '감독', '눈물', '한번', '같은', '정도', '짱', '재미있게', '하나', '같아', '들', '좀', '왔', '한', '장면', '와', '거', '분', '재밌', '있었', '재미있었', '액션', '재미없', '마음', '인생', '우리', '대박', '느낌', '안', '이었', '마블', '보기', '임', '저', '듯', '합', '가슴']\n"
     ]
    }
   ],
   "source": [
    "print(common_words[:100])"
   ]
  },
  {
   "cell_type": "code",
   "execution_count": 14,
   "metadata": {},
   "outputs": [],
   "source": [
    "# 각 문서를 상위 10000개 단어들에 대해서 index 번호로 표현하기\n",
    "filtered_indexed_words = []\n",
    "for review in filtered_words:\n",
    "    indexed_words=[]\n",
    "    for word in review:\n",
    "        try:\n",
    "            indexed_words.append(words_dic[word])\n",
    "        except:\n",
    "            pass\n",
    "    filtered_indexed_words.append(indexed_words)"
   ]
  },
  {
   "cell_type": "code",
   "execution_count": 15,
   "metadata": {},
   "outputs": [],
   "source": [
    "max_len = 100"
   ]
  },
  {
   "cell_type": "code",
   "execution_count": 16,
   "metadata": {},
   "outputs": [],
   "source": [
    "from tensorflow.keras.preprocessing import sequence\n",
    "X = sequence.pad_sequences(filtered_indexed_words, maxlen=max_len)"
   ]
  },
  {
   "cell_type": "code",
   "execution_count": 17,
   "metadata": {},
   "outputs": [
    {
     "data": {
      "text/plain": [
       "[173, 245, 1, 315, 1970, 42, 148, 120, 1240, 686, 61, 245, 1, 96]"
      ]
     },
     "execution_count": 17,
     "metadata": {},
     "output_type": "execute_result"
    }
   ],
   "source": [
    "filtered_indexed_words[0]"
   ]
  },
  {
   "cell_type": "code",
   "execution_count": 18,
   "metadata": {},
   "outputs": [
    {
     "data": {
      "text/plain": [
       "array([   0,    0,    0,    0,    0,    0,    0,    0,    0,    0,    0,\n",
       "          0,    0,    0,    0,    0,    0,    0,    0,    0,    0,    0,\n",
       "          0,    0,    0,    0,    0,    0,    0,    0,    0,    0,    0,\n",
       "          0,    0,    0,    0,    0,    0,    0,    0,    0,    0,    0,\n",
       "          0,    0,    0,    0,    0,    0,    0,    0,    0,    0,    0,\n",
       "          0,    0,    0,    0,    0,    0,    0,    0,    0,    0,    0,\n",
       "          0,    0,    0,    0,    0,    0,    0,    0,    0,    0,    0,\n",
       "          0,    0,    0,    0,    0,    0,    0,    0,    0,  173,  245,\n",
       "          1,  315, 1970,   42,  148,  120, 1240,  686,   61,  245,    1,\n",
       "         96])"
      ]
     },
     "execution_count": 18,
     "metadata": {},
     "output_type": "execute_result"
    }
   ],
   "source": [
    "X[0]"
   ]
  },
  {
   "cell_type": "code",
   "execution_count": 19,
   "metadata": {},
   "outputs": [],
   "source": [
    "from sklearn.model_selection import train_test_split \n",
    "X_train, X_test, y_train, y_test = train_test_split(X, filtered_labels, test_size=0.1)"
   ]
  },
  {
   "cell_type": "code",
   "execution_count": 21,
   "metadata": {},
   "outputs": [],
   "source": [
    "from tensorflow.keras.utils import to_categorical\n",
    "y_train_one_hot = to_categorical(y_train)\n",
    "y_test_one_hot = to_categorical(y_test)"
   ]
  },
  {
   "cell_type": "code",
   "execution_count": 22,
   "metadata": {},
   "outputs": [],
   "source": [
    "from tensorflow.keras import layers\n",
    "from tensorflow.keras import models"
   ]
  },
  {
   "cell_type": "code",
   "execution_count": 23,
   "metadata": {},
   "outputs": [
    {
     "name": "stdout",
     "output_type": "stream",
     "text": [
      "Model: \"sequential\"\n",
      "_________________________________________________________________\n",
      "Layer (type)                 Output Shape              Param #   \n",
      "=================================================================\n",
      "embedding (Embedding)        (None, None, 32)          320032    \n",
      "_________________________________________________________________\n",
      "simple_rnn (SimpleRNN)       (None, 32)                2080      \n",
      "_________________________________________________________________\n",
      "dense (Dense)                (None, 2)                 66        \n",
      "=================================================================\n",
      "Total params: 322,178\n",
      "Trainable params: 322,178\n",
      "Non-trainable params: 0\n",
      "_________________________________________________________________\n"
     ]
    }
   ],
   "source": [
    "model = models.Sequential()\n",
    "model.add(layers.Embedding(max_features+1, 32)) # +1 을 하는 이유, index 번호 0이 포함되었기 때문\n",
    "model.add(layers.SimpleRNN(32))\n",
    "model.add(layers.Dense(2, activation = 'softmax'))\n",
    "model.summary()"
   ]
  },
  {
   "cell_type": "code",
   "execution_count": 24,
   "metadata": {},
   "outputs": [],
   "source": [
    "from tensorflow.keras.optimizers import RMSprop\n",
    "model.compile(optimizer=RMSprop(learning_rate=0.001), loss='binary_crossentropy', metrics=['acc'])"
   ]
  },
  {
   "cell_type": "code",
   "execution_count": 26,
   "metadata": {},
   "outputs": [
    {
     "name": "stdout",
     "output_type": "stream",
     "text": [
      "Epoch 1/10\n",
      "1181/1181 [==============================] - 74s 63ms/step - loss: 0.1963 - acc: 0.9225 - val_loss: 0.1775 - val_acc: 0.9311\n",
      "Epoch 2/10\n",
      "1181/1181 [==============================] - 74s 63ms/step - loss: 0.1660 - acc: 0.9363 - val_loss: 0.8875 - val_acc: 0.6172\n",
      "Epoch 3/10\n",
      "1181/1181 [==============================] - 80s 68ms/step - loss: 0.1531 - acc: 0.9418 - val_loss: 0.1746 - val_acc: 0.9332\n",
      "Epoch 4/10\n",
      "1181/1181 [==============================] - 78s 66ms/step - loss: 0.1433 - acc: 0.9462 - val_loss: 0.1839 - val_acc: 0.9315\n",
      "Epoch 5/10\n",
      "1181/1181 [==============================] - 75s 63ms/step - loss: 0.1328 - acc: 0.9508 - val_loss: 0.1892 - val_acc: 0.9303: 0.9 - ETA: 1s - loss: 0.132 - ETA: 0s - loss: 0.1328 - acc:\n",
      "Epoch 6/10\n",
      "1181/1181 [==============================] - 73s 61ms/step - loss: 0.1238 - acc: 0.9542 - val_loss: 0.1955 - val_acc: 0.9283\n",
      "Epoch 7/10\n",
      "1181/1181 [==============================] - 73s 62ms/step - loss: 0.1189 - acc: 0.9565 - val_loss: 0.1987 - val_acc: 0.9270\n",
      "Epoch 8/10\n",
      "1181/1181 [==============================] - 73s 62ms/step - loss: 0.1201 - acc: 0.9555 - val_loss: 0.2087 - val_acc: 0.9241\n",
      "Epoch 9/10\n",
      "1181/1181 [==============================] - 73s 62ms/step - loss: 0.1131 - acc: 0.9586 - val_loss: 0.2126 - val_acc: 0.9255\n",
      "Epoch 10/10\n",
      "1181/1181 [==============================] - 73s 62ms/step - loss: 0.1089 - acc: 0.9604 - val_loss: 0.2118 - val_acc: 0.9234\n"
     ]
    }
   ],
   "source": [
    "history = model.fit(X_train, y_train_one_hot, epochs=10, batch_size=256, validation_split=0.2)"
   ]
  },
  {
   "cell_type": "code",
   "execution_count": 27,
   "metadata": {},
   "outputs": [
    {
     "data": {
      "image/png": "[encoded data removed]",
      "text/plain": [
       "<Figure size 432x288 with 1 Axes>"
      ]
     },
     "metadata": {
      "needs_background": "light"
     },
     "output_type": "display_data"
    }
   ],
   "source": [
    "import matplotlib.pyplot as plt\n",
    "plt.plot(history.history['loss'])\n",
    "plt.plot(history.history['val_loss'])\n",
    "plt.xlabel('epoch')\n",
    "plt.ylabel('loss')\n",
    "plt.legend(['train','val'])\n",
    "plt.show()"
   ]
  },
  {
   "cell_type": "code",
   "execution_count": 28,
   "metadata": {},
   "outputs": [
    {
     "name": "stdout",
     "output_type": "stream",
     "text": [
      "1312/1312 [==============================] - 10s 8ms/step - loss: 0.2102 - acc: 0.9231: 1s - loss\n",
      "test_acc: 0.9231300354003906\n"
     ]
    }
   ],
   "source": [
    "test_loss, test_acc = model.evaluate(X_test, y_test_one_hot)\n",
    "print('test_acc:', test_acc)"
   ]
  },
  {
   "cell_type": "code",
   "execution_count": null,
   "metadata": {
    "collapsed": true
   },
   "outputs": [],
   "source": []
  }
 ],
 "metadata": {
  "kernelspec": {
   "display_name": "Python 3",
   "language": "python",
   "name": "python3"
  },
  "language_info": {
   "codemirror_mode": {
    "name": "ipython",
    "version": 3
   },
   "file_extension": ".py",
   "mimetype": "text/x-python",
   "name": "python",
   "nbconvert_exporter": "python",
   "pygments_lexer": "ipython3",
   "version": "3.8.3"
  }
 },
 "nbformat": 4,
 "nbformat_minor": 2
}
