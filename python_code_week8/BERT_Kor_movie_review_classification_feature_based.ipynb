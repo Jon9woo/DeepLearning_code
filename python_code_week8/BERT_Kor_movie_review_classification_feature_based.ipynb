{
 "cells": [
  {
   "cell_type": "code",
   "execution_count": 1,
   "metadata": {},
   "outputs": [],
   "source": [
    "import numpy as np\n",
    "import pandas as pd\n",
    "import tensorflow as tf\n",
    "from transformers import BertTokenizer, TFBertModel\n",
    "import warnings\n",
    "warnings.filterwarnings('ignore')"
   ]
  },
  {
   "cell_type": "code",
   "execution_count": 2,
   "metadata": {},
   "outputs": [],
   "source": [
    "tokenizer = BertTokenizer.from_pretrained('bert-base-multilingual-cased')"
   ]
  },
  {
   "cell_type": "code",
   "execution_count": 3,
   "metadata": {},
   "outputs": [
    {
     "name": "stderr",
     "output_type": "stream",
     "text": [
      "Some layers from the model checkpoint at bert-base-multilingual-cased were not used when initializing TFBertModel: ['nsp___cls', 'mlm___cls']\n",
      "- This IS expected if you are initializing TFBertModel from the checkpoint of a model trained on another task or with another architecture (e.g. initializing a BertForSequenceClassification model from a BertForPreTraining model).\n",
      "- This IS NOT expected if you are initializing TFBertModel from the checkpoint of a model that you expect to be exactly identical (initializing a BertForSequenceClassification model from a BertForSequenceClassification model).\n",
      "All the layers of TFBertModel were initialized from the model checkpoint at bert-base-multilingual-cased.\n",
      "If your task is similar to the task the model of the checkpoint was trained on, you can already use TFBertModel for predictions without further training.\n"
     ]
    }
   ],
   "source": [
    "model = TFBertModel.from_pretrained(\"bert-base-multilingual-cased\", output_hidden_states = True)"
   ]
  },
  {
   "cell_type": "code",
   "execution_count": 4,
   "metadata": {},
   "outputs": [],
   "source": [
    "def encode(sents, tokenizer):\n",
    "    input_ids = []\n",
    "    attention_mask = []\n",
    "    for text in sents:\n",
    "        tokenized_text = tokenizer.encode_plus(text,\n",
    "                                            max_length=20,\n",
    "                                            add_special_tokens = True,\n",
    "                                            pad_to_max_length=True,\n",
    "                                            return_attention_mask=True)\n",
    "        input_ids.append(tokenized_text['input_ids'])\n",
    "        attention_mask.append(tokenized_text['attention_mask'])\n",
    "    return tf.convert_to_tensor(input_ids, dtype=tf.int32), tf.convert_to_tensor(attention_mask, dtype=tf.int32)"
   ]
  },
  {
   "cell_type": "code",
   "execution_count": 5,
   "metadata": {},
   "outputs": [],
   "source": [
    "with open('Korean_movie_reviews_2016.txt', encoding='utf-8') as f:\n",
    "    docs = [doc.strip().split('\\t') for doc in f ]\n",
    "    docs = [(doc[0], int(doc[1])) for doc in docs if len(doc) == 2]\n",
    "    texts, labels = zip(*docs)"
   ]
  },
  {
   "cell_type": "code",
   "execution_count": 29,
   "metadata": {},
   "outputs": [
    {
     "data": {
      "text/plain": [
       "0.5248754413969913"
      ]
     },
     "execution_count": 29,
     "metadata": {},
     "output_type": "execute_result"
    }
   ],
   "source": [
    "sum(labels)/len(labels)"
   ]
  },
  {
   "cell_type": "code",
   "execution_count": 6,
   "metadata": {},
   "outputs": [
    {
     "name": "stderr",
     "output_type": "stream",
     "text": [
      "Truncation was not explicitly activated but `max_length` is provided a specific value, please use `truncation=True` to explicitly truncate examples to max length. Defaulting to 'longest_first' truncation strategy. If you encode pairs of sequences (GLUE-style) with the tokenizer you can select this strategy more precisely by providing a specific strategy to `truncation`.\n"
     ]
    }
   ],
   "source": [
    "tokenized_sents = encode(texts[:2000], tokenizer)"
   ]
  },
  {
   "cell_type": "code",
   "execution_count": 7,
   "metadata": {},
   "outputs": [],
   "source": [
    "for layer in model.layers:\n",
    "    layer.trainable=False"
   ]
  },
  {
   "cell_type": "code",
   "execution_count": 8,
   "metadata": {},
   "outputs": [],
   "source": [
    "outputs = model(tokenized_sents[0], attention_mask = tokenized_sents[1])"
   ]
  },
  {
   "cell_type": "code",
   "execution_count": 9,
   "metadata": {},
   "outputs": [
    {
     "data": {
      "text/plain": [
       "TensorShape([2000, 20, 768])"
      ]
     },
     "execution_count": 9,
     "metadata": {},
     "output_type": "execute_result"
    }
   ],
   "source": [
    "outputs[2][-1].shape"
   ]
  },
  {
   "cell_type": "code",
   "execution_count": 10,
   "metadata": {},
   "outputs": [],
   "source": [
    "hidden_states = outputs[2][-1]\n",
    "features = hidden_states[:,0,:].numpy()"
   ]
  },
  {
   "cell_type": "code",
   "execution_count": 11,
   "metadata": {},
   "outputs": [],
   "source": [
    "# outputs[0]도 12번째 encoder block 정보를 담고 있음, 아래와 같이 코딩하는 것도 가능\n",
    "# outputs[0].shape\n",
    "# hidden_states1 = outputs[0]\n",
    "# features1 = hidden_states[:,0,:].numpy()"
   ]
  },
  {
   "cell_type": "code",
   "execution_count": 12,
   "metadata": {},
   "outputs": [
    {
     "data": {
      "text/plain": [
       "2000"
      ]
     },
     "execution_count": 12,
     "metadata": {},
     "output_type": "execute_result"
    }
   ],
   "source": [
    "len(features)"
   ]
  },
  {
   "cell_type": "code",
   "execution_count": 13,
   "metadata": {},
   "outputs": [
    {
     "data": {
      "text/plain": [
       "array([-1.95776939e-01, -1.42887294e-01, -7.39764571e-02,  2.25616604e-01,\n",
       "        1.69666678e-01, -2.31547393e-02,  8.91063809e-02, -9.06203687e-03,\n",
       "       -1.60783678e-01,  3.93733829e-01, -1.15178823e-01,  1.41906321e-01,\n",
       "        2.62128115e-01,  3.43998522e-02, -4.72594380e-01, -4.14408267e-01,\n",
       "       -4.52963263e-02,  1.72259539e-01,  2.02932626e-01,  4.96088266e-01,\n",
       "        1.68717712e-01,  1.16876006e-01,  7.71853030e-02,  1.10295400e-01,\n",
       "        7.44942501e-02,  7.94510171e-02,  3.70397151e-01, -2.17554048e-02,\n",
       "        6.41099811e-01,  2.70394534e-01,  1.28989473e-01, -2.26351023e-02,\n",
       "       -1.99827209e-01,  2.01245576e-01, -2.33793855e-01,  4.83464524e-02,\n",
       "       -1.89987814e+00, -1.58275172e-01, -2.73916423e-02,  7.47385025e-02,\n",
       "       -3.49226654e-01, -9.15706158e-02, -9.44415852e-02,  2.38769248e-01,\n",
       "        1.50228709e-01,  9.70730662e-01,  4.60561961e-02,  4.32114378e-02,\n",
       "        1.49612212e+00, -1.95974424e-01,  2.01177359e-01, -4.21490669e-01,\n",
       "        4.72220182e-02, -1.38983572e+00,  6.10646456e-02,  3.88423145e-01,\n",
       "        1.81230664e-01, -1.31885350e-01,  1.46599159e-01, -1.80727541e-01,\n",
       "       -1.44782439e-02,  1.55802295e-01,  1.55792892e-01, -3.77889544e-01,\n",
       "       -2.50418127e-01,  1.59743756e-01, -7.43584707e-03,  1.42487824e-01,\n",
       "        4.54742238e-02,  3.24716747e-01,  2.26133615e-01,  1.65431529e-01,\n",
       "       -2.36738473e-01, -1.03314951e-01, -3.03320974e-01,  3.30281734e-01,\n",
       "        1.58560187e-01, -5.94919026e-02, -3.35324883e-01,  3.63138080e-01,\n",
       "        3.99792373e-01,  4.37211305e-01, -4.24620479e-01,  2.44213849e-01,\n",
       "        9.04540271e-02, -2.79279083e-01,  2.54788488e-01, -1.95800692e-01,\n",
       "       -9.50204432e-02, -1.31200865e-01, -2.29348138e-01, -2.32352123e-01,\n",
       "       -6.33339167e-01,  1.00998506e-01, -3.28412682e-01, -7.07616568e-01,\n",
       "        6.90780580e-02,  7.52290711e-02,  2.57019192e-01,  2.61828005e-02,\n",
       "       -6.88677728e-02,  1.45544875e+00,  3.55283737e-01, -3.37772101e-01,\n",
       "       -3.08660626e+00,  2.34211549e-01, -2.66763091e-01, -5.15023060e-02,\n",
       "        5.25627613e-01, -2.68415868e-01,  1.84123933e-01,  1.00675821e-02,\n",
       "        1.02711514e-01, -6.67788610e-02,  8.59150440e-02,  2.02833116e-01,\n",
       "       -5.34846671e-02, -9.48988795e-02, -3.63267958e-02, -1.51753545e-01,\n",
       "        5.00191152e-01,  9.43602175e-02, -4.53526154e-04, -5.03562391e-02,\n",
       "       -8.89288932e-02,  1.91623196e-01,  2.20813379e-02, -1.60741299e-01,\n",
       "        2.46710479e-02,  8.93748045e-01, -1.04557857e-01,  1.98635292e+00,\n",
       "        1.49072930e-01, -3.59815508e-02,  6.83340132e-01,  1.57564962e+00,\n",
       "        4.44822073e-01,  3.38103443e-01,  2.49002218e-01,  6.84997439e-01,\n",
       "        1.14223778e-01, -3.86627316e-01, -1.54597238e-01,  5.53611852e-02,\n",
       "       -1.65509760e-01,  2.33210549e-01, -3.81350070e-02,  1.78083628e-02,\n",
       "       -2.41270185e-01,  1.81608975e-01,  1.22928284e-01, -6.80134892e-02,\n",
       "        3.31226327e-02,  4.39332649e-02, -1.39111400e-01,  1.36501119e-02,\n",
       "       -2.67488956e-02, -2.14069381e-01, -6.89181536e-02, -2.62461543e-01,\n",
       "        1.55324662e+00,  1.36526883e-01, -2.40066558e-01,  5.79677343e-01,\n",
       "        9.72081870e-02, -5.74961975e-02,  1.72587484e-01, -4.01825681e-02,\n",
       "       -4.68255758e-01, -3.89147222e-01, -5.53790390e-01, -1.69968158e-01,\n",
       "        2.71634519e-01, -2.44175568e-01,  2.17527986e-01,  6.61183074e-02,\n",
       "       -1.10540181e-01,  1.00092113e-01, -4.31272388e-01, -5.58096021e-02,\n",
       "       -2.79299468e-01,  1.34997964e-01, -2.45476186e-01, -2.11213350e-01,\n",
       "        1.42744601e-01,  1.13473900e-01,  6.84100091e-02, -3.87652487e-01,\n",
       "       -2.96996891e-01, -1.46010205e-01,  2.75098324e-01,  1.74527839e-01,\n",
       "       -4.44538407e-02,  4.20024432e-02,  1.29495129e-01,  9.91870612e-02,\n",
       "       -7.15803653e-02,  3.82786691e-01, -2.12860331e-01,  7.40482435e-02,\n",
       "       -3.91372293e-02,  2.71854818e-01,  1.01942271e-01, -3.39029022e-02,\n",
       "       -9.00885984e-02,  8.26625586e-01, -1.82962194e-01, -2.61733025e-01,\n",
       "        1.31099708e-02,  9.82622355e-02, -7.68730640e-02,  1.17207281e-02,\n",
       "        1.05917537e+00,  1.91113725e-01,  1.01278171e-01,  2.70364553e-01,\n",
       "        3.86408903e-02, -1.82936400e-01,  2.74931848e-01, -2.09457493e+00,\n",
       "       -2.01822117e-01,  2.27172896e-01, -4.21285868e-01, -1.39688030e-02,\n",
       "       -4.42168474e-01, -2.66040504e-01, -1.31396711e-01,  3.26608241e-01,\n",
       "       -3.37331533e-01,  2.02987343e-02,  1.29472643e-01,  2.27180257e-01,\n",
       "        2.49272510e-01, -1.85017502e+00,  6.00419119e-02, -7.88392723e-02,\n",
       "        1.45714924e-01, -5.08892000e-01, -2.19868988e-01,  2.68694516e-02,\n",
       "        3.42295647e-01, -9.15958732e-03,  1.21956438e-01, -2.47373924e-01,\n",
       "        4.49318826e-01,  3.21503580e-02,  9.81499314e-01,  1.31416991e-01,\n",
       "        1.40734255e-01, -1.50512531e-01, -1.49573237e-02,  4.13669854e-01,\n",
       "        2.84202576e-01, -1.45800203e-01, -1.51438758e-01,  3.12603563e-01,\n",
       "        2.17267826e-01, -1.85856819e-01, -1.40647590e-01, -2.39224792e-01,\n",
       "       -2.60648459e-01,  1.46140203e-01, -3.07201818e-02, -2.81875521e-01,\n",
       "        2.91880280e-01, -1.64437816e-01,  2.28317082e-03,  8.10290426e-02,\n",
       "       -2.94836462e-01,  2.27890223e-01, -2.93432951e-01, -2.93724984e-01,\n",
       "       -4.11862358e-02,  1.88035682e-01, -1.37754716e-02,  8.45790654e-02,\n",
       "       -6.22715801e-02,  1.83771089e-01, -1.85161591e-01, -1.42435640e-01,\n",
       "       -2.68998593e-01,  1.04206488e-01,  4.47504818e-02,  1.12757355e-01,\n",
       "       -1.82079598e-02,  2.53422186e-02, -2.44876578e-01, -2.04913229e-01,\n",
       "       -5.38126290e-01, -1.05541074e+00, -1.30438700e-01,  1.07500091e-01,\n",
       "        1.79951280e-01,  6.58717677e-02, -2.31238127e-01, -7.31870160e-02,\n",
       "       -1.72028214e-01,  1.07721120e-01,  2.30252724e-02,  1.55177981e-01,\n",
       "        4.47710305e-02, -1.23983540e-01, -8.03121030e-02,  3.69373113e-02,\n",
       "       -1.63734031e+00,  4.74786848e-01,  2.98937429e-02,  1.16030648e-02,\n",
       "        2.85842597e-01, -8.43309835e-02, -1.98613286e-01, -9.19785202e-02,\n",
       "       -3.12896311e-01, -1.91649869e-01, -4.68984880e-02,  2.93221287e-02,\n",
       "       -3.19412500e-02,  2.59856999e-01, -1.37639329e-01,  1.19047590e-01,\n",
       "        5.82146607e-02, -1.71839488e+00,  1.67906925e-01, -3.61482501e-01,\n",
       "        4.51713018e-02,  2.76733249e-01, -3.18398595e-01,  5.13313711e-02,\n",
       "        4.80778515e-02,  5.43790311e-03,  8.37681144e-02,  2.43239313e-01,\n",
       "       -2.81466544e-03,  8.38336200e-02, -8.26622844e-02, -3.86173837e-03,\n",
       "       -4.15325016e-02, -7.87549913e-02, -2.19402742e-02, -6.49845749e-02,\n",
       "        1.59208745e-01,  2.17359781e-01,  1.81799695e-01,  3.57681453e-01,\n",
       "       -1.29959106e-01,  1.99200019e-01,  1.74310267e-01, -1.30909085e-01,\n",
       "       -2.23547339e-01,  2.03681827e-01, -1.76457867e-01, -1.81252018e-01,\n",
       "       -4.07804608e-01, -3.19315672e-01,  1.30015552e-01, -2.52133071e-01,\n",
       "       -3.01671654e-01,  9.54871625e-02, -1.35985464e-01,  4.71095070e-02,\n",
       "       -6.32088333e-02,  2.07536653e-01, -1.73652828e-01, -3.23184758e-01,\n",
       "        1.54532507e-01, -2.35724106e-01,  2.21872389e-01,  1.43901408e-01,\n",
       "        7.87668675e-03,  4.26572382e-01,  2.59416997e-01,  3.64372224e-01,\n",
       "       -2.12838486e-01, -2.43993402e-01, -1.05563417e-01, -4.11033005e-01,\n",
       "        1.17573226e-02, -4.93266061e-02, -3.42302054e-01, -1.31383613e-01,\n",
       "       -1.00210711e-01, -4.90725338e-02, -1.44614780e+00,  1.21416971e-01,\n",
       "        3.71314019e-01, -1.33710003e+00, -1.11832708e-01, -4.92450982e-01,\n",
       "       -5.61743528e-02, -4.13257509e-01, -9.89930928e-02, -5.39099425e-02,\n",
       "        6.40752092e-02, -4.03369814e-02, -1.50843263e-02,  1.77996755e-02,\n",
       "        7.72912428e-02, -2.74296403e-01, -1.64942116e-01,  2.05485165e-01,\n",
       "        2.25113630e-01,  5.94623722e-02,  5.70173673e-02,  1.13245532e-01,\n",
       "       -4.44788903e-01, -1.63795698e+00,  4.77102757e-01,  6.33488595e-02,\n",
       "       -9.78403986e-02,  8.37123692e-02,  2.29292393e-01,  1.55856550e-01,\n",
       "        3.76733065e-01,  3.41168314e-01, -4.82651591e-03,  1.88626394e-01,\n",
       "       -1.43083945e-01,  8.35809410e-02, -1.21225059e-01, -6.26487434e-01,\n",
       "        3.53109062e-01,  4.35907811e-01,  8.61962140e-02, -8.05721283e-01,\n",
       "        9.52827036e-02, -1.14312768e-02,  1.85506627e-01, -2.62748122e-01,\n",
       "        1.13599217e-02,  3.48483711e-01, -3.43190551e-01,  2.25319684e-01,\n",
       "        4.78834659e-02, -9.60630357e-01, -1.68404496e+00,  1.28404355e+00,\n",
       "        1.35258678e-02,  2.66968131e-01, -7.47475922e-02,  1.32843196e+00,\n",
       "        4.24937129e-01, -1.42998487e-01, -3.17492574e-01,  1.51332885e-01,\n",
       "        3.43167424e-01,  2.62895203e+00, -1.43504858e-01, -2.70599097e-01,\n",
       "        1.22633374e+00,  8.28384459e-02,  4.81066585e-01, -2.70117849e-01,\n",
       "       -1.64172971e+00, -2.03083944e+00,  1.24703422e-01,  9.99597274e-03,\n",
       "        1.95980936e-01,  1.92873538e-01,  2.43965685e-01, -9.22127441e-02,\n",
       "        1.17537014e-01,  1.91918194e-01,  3.75721008e-02, -1.85408711e-01,\n",
       "        2.40083441e-01, -3.56464505e-01,  2.68569589e-02, -1.57118022e-01,\n",
       "       -3.12845707e-02,  2.07971379e-01,  4.26265299e-01,  3.93570662e-02,\n",
       "        9.80927199e-02, -2.45114297e-01, -3.34669441e-01, -1.96447086e+00,\n",
       "        1.08866334e-01,  2.83778846e-01,  1.74820989e-01,  1.09689042e-01,\n",
       "        1.09333992e-02,  1.92225799e-01, -7.27084577e-02, -3.94285887e-01,\n",
       "        7.54888952e-02,  2.60658562e-01,  7.32033029e-02, -2.30324373e-01,\n",
       "        2.58350581e-01,  1.27023101e-01,  1.58163354e-01, -1.98785603e-01,\n",
       "        1.13062158e-01,  1.79154253e+00, -2.34546408e-01, -2.33873293e-01,\n",
       "        2.69369602e-01,  2.89509803e-01,  3.94488186e-01, -1.35364488e-01,\n",
       "       -1.22536600e-01, -1.15341619e-01, -1.16677731e-01,  5.32535650e-02,\n",
       "       -6.46726713e-02,  9.73366350e-02, -1.46249443e-01, -3.77358317e-01,\n",
       "       -2.29470164e-01,  1.92288414e-01,  5.53131759e-01,  2.65779406e-01,\n",
       "       -7.56623596e-02, -8.54129016e-01,  4.28101391e-01,  2.64580607e-01,\n",
       "        1.14580512e-01,  3.31862479e-01, -1.30303264e-01,  3.21767032e-02,\n",
       "        2.21944511e-01,  2.02010900e-01, -7.96576738e-02, -4.12068665e-02,\n",
       "       -2.49179870e-01, -8.64834115e-02, -5.06803572e-01,  2.33906925e-01,\n",
       "        2.66370270e-02, -3.03039700e-03, -2.34051824e-01, -4.96205688e-01,\n",
       "       -1.12703420e-01,  1.37800050e+00,  1.44555256e-01,  2.06345260e-01,\n",
       "        1.00905383e+00,  2.18284592e-01, -1.82828411e-01, -5.61100021e-02,\n",
       "        2.83048719e-01, -1.07241631e-01,  4.41528857e-04,  1.96920298e-02,\n",
       "        1.83073357e-02, -1.47015557e-01,  1.48179859e-01,  1.17314078e-01,\n",
       "       -2.30793282e-02, -2.33240783e-01,  1.09936789e-01,  5.90705991e-01,\n",
       "        4.73249495e-01,  2.01490819e-01, -4.49158065e-02, -2.58464366e-01,\n",
       "       -6.05374016e-02,  1.72295943e-01, -6.48207292e-02,  2.32767053e-02,\n",
       "        2.61652112e-01,  3.00520480e-01, -2.82576233e-02, -6.40782714e-03,\n",
       "       -1.40305042e-01, -2.48334557e-01, -1.05649337e-01,  1.60421193e-01,\n",
       "        2.55315807e-02,  1.94350168e-01, -7.40054399e-02, -4.91607189e-02,\n",
       "       -9.11805779e-04,  1.24790385e-01,  1.25397265e-01,  1.96465135e-01,\n",
       "       -1.60350740e-01,  3.54312658e-01,  2.46269494e-01, -2.78748721e-01,\n",
       "       -5.30982949e-03,  9.59167629e-03,  3.26803885e-02, -7.10476264e-02,\n",
       "       -6.59887552e-01, -6.86110854e-02, -7.53578022e-02, -3.47947568e-01,\n",
       "        2.08972737e-01, -3.05849999e-01, -1.75970495e-02,  3.11057478e-01,\n",
       "        2.63326228e-01,  2.68777728e-01,  7.96905160e-02,  2.96577871e-01,\n",
       "       -7.69567788e-02,  1.72494873e-01, -3.94659489e-02,  5.52089885e-02,\n",
       "       -9.47415829e-05, -1.04250632e-01,  2.72715092e-01, -2.30542615e-01,\n",
       "        1.71980992e-01, -2.61577725e-01,  2.56578743e-01,  1.60643876e-01,\n",
       "       -2.64543414e-01,  3.92602384e-01, -1.26832709e-01, -1.40389979e-01,\n",
       "        5.49198687e-02,  1.33196712e-01,  3.11359674e-01, -2.14475274e+00,\n",
       "       -1.48191959e-01,  1.09968431e-01,  3.98192346e-01,  2.91210681e-01,\n",
       "       -2.65050471e-01,  7.66824126e-01, -1.51628435e-01, -8.89488608e-02,\n",
       "        2.46210754e-01, -3.20293605e-02,  2.40583435e-01, -1.55377015e-01,\n",
       "       -1.71570629e-01, -4.63612497e-01, -1.22723177e-01,  1.45963624e-01,\n",
       "        1.68000773e-01, -2.44063661e-02, -8.25995952e-03, -1.51372612e+00,\n",
       "       -4.10159715e-02, -2.02269167e-01,  1.19748995e-01,  8.92333835e-02,\n",
       "       -2.42716908e-01, -2.01840997e-01,  1.67733788e-01, -4.06329632e-01,\n",
       "       -7.78770894e-02, -1.86473429e-02, -2.59126216e-01,  3.63389313e-01,\n",
       "       -2.86285311e-01,  4.50139314e-01, -1.18478030e-01, -1.78910315e-01,\n",
       "        9.25615430e-04, -2.30000213e-01,  1.81677073e-01, -8.51832554e-02,\n",
       "       -1.81918710e-01, -2.20368609e-01,  3.81251693e-01,  2.73814380e-01,\n",
       "        1.94593519e-02,  3.67467016e-01, -1.99546933e-01,  2.36407965e-02,\n",
       "       -5.62860519e-02, -1.36689663e+00,  1.28666878e-01, -2.56949514e-01,\n",
       "        2.92501092e-01, -5.90542853e-01,  4.14128065e-01, -1.40870810e-01,\n",
       "       -1.15064047e-02,  1.67597041e-01, -4.20122296e-02, -6.18119657e-01,\n",
       "       -1.77647322e-02,  1.70920774e-01,  4.74087447e-02, -7.01359957e-02,\n",
       "       -2.60403454e-01,  1.28593296e-02,  1.40512794e-01, -1.96450025e-01,\n",
       "       -1.48893744e-01,  2.35822797e-01, -3.55523288e-01,  6.66283667e-01,\n",
       "       -4.02332276e-01,  3.41082782e-01,  2.92300344e-01,  6.45501688e-02,\n",
       "        2.45657936e-02, -2.23983780e-01,  3.82593088e-02, -1.22918949e-01,\n",
       "       -1.03114152e+00, -4.89985086e-02, -3.34255174e-02,  4.06758860e-03,\n",
       "       -2.07538724e-01, -3.01162064e-01,  1.28091931e-01,  3.27091753e-01,\n",
       "        1.53027177e-01, -1.60231680e-01,  4.16471064e-01,  1.40580177e+00,\n",
       "        1.13054611e-01, -1.97763205e-01,  3.84330228e-02,  2.19635442e-02,\n",
       "       -2.58184612e-01,  2.89179116e-01, -3.52071166e-01,  1.77736330e+00,\n",
       "       -3.47407423e-02,  4.05460596e-04, -3.32885832e-01,  1.58669010e-01,\n",
       "        8.60293955e-03,  1.28758609e+00,  4.03693914e-01,  5.90492040e-03,\n",
       "       -2.84536362e-01, -1.09523714e-01, -2.19598413e-01,  3.76902670e-01,\n",
       "       -2.90522724e-01,  1.68452770e-01,  2.85506248e-01, -8.48941207e-01,\n",
       "       -7.55162835e-02,  4.97559085e-02,  3.38035524e-01,  2.59334683e-01,\n",
       "       -8.08602929e-01,  9.50081646e-02, -3.22573259e-03, -1.90114737e-01,\n",
       "        5.63439354e-02,  1.44103169e-01, -3.53825867e-01, -2.96244882e-02,\n",
       "       -5.95341548e-02, -2.01345816e-01,  2.73411840e-01, -1.10287160e-01,\n",
       "        5.59051372e-02,  2.12740183e-01,  1.15890741e-01, -1.53692111e-01,\n",
       "        3.23306799e-01, -2.60392934e-01,  1.41562566e-01,  5.89927614e-01,\n",
       "        1.40074924e-01,  2.50036478e-01,  1.00868262e-01, -1.96282625e-01,\n",
       "        2.83588357e-02, -5.24289310e-01,  1.23752527e-01,  1.43760979e-01,\n",
       "        1.29842684e-02,  4.12844978e-02,  5.34726828e-02,  2.41032809e-01],\n",
       "      dtype=float32)"
      ]
     },
     "execution_count": 13,
     "metadata": {},
     "output_type": "execute_result"
    }
   ],
   "source": [
    "features[0]"
   ]
  },
  {
   "cell_type": "code",
   "execution_count": 14,
   "metadata": {},
   "outputs": [],
   "source": [
    "selected_labels=labels[:2000]"
   ]
  },
  {
   "cell_type": "code",
   "execution_count": 15,
   "metadata": {},
   "outputs": [],
   "source": [
    "from sklearn.model_selection import train_test_split\n",
    "train_features, test_features, train_labels, test_labels = train_test_split(features, selected_labels, test_size=0.2, random_state=0)"
   ]
  },
  {
   "cell_type": "code",
   "execution_count": 16,
   "metadata": {},
   "outputs": [],
   "source": [
    "from sklearn.linear_model import LogisticRegression\n",
    "lr2 = LogisticRegression(C=0.1, penalty='l2', solver='saga', max_iter=1000)\n",
    "lr2.fit(train_features, train_labels)\n",
    "pred_labels = lr2.predict(test_features)"
   ]
  },
  {
   "cell_type": "code",
   "execution_count": 17,
   "metadata": {},
   "outputs": [
    {
     "data": {
      "text/plain": [
       "0.6775"
      ]
     },
     "execution_count": 17,
     "metadata": {},
     "output_type": "execute_result"
    }
   ],
   "source": [
    "from sklearn.metrics import accuracy_score\n",
    "accuracy_score(test_labels, pred_labels)"
   ]
  },
  {
   "cell_type": "markdown",
   "metadata": {},
   "source": [
    "### FNN 사용해 보기"
   ]
  },
  {
   "cell_type": "code",
   "execution_count": 18,
   "metadata": {},
   "outputs": [],
   "source": [
    "from tensorflow.keras.utils import to_categorical\n",
    "y_one_hot = to_categorical(selected_labels)"
   ]
  },
  {
   "cell_type": "code",
   "execution_count": 19,
   "metadata": {},
   "outputs": [],
   "source": [
    "from sklearn.model_selection import train_test_split \n",
    "X_train, X_test, y_train, y_test = train_test_split(features, y_one_hot, test_size=0.2)"
   ]
  },
  {
   "cell_type": "code",
   "execution_count": 20,
   "metadata": {},
   "outputs": [],
   "source": [
    "from tensorflow.keras import models\n",
    "model = models.Sequential()"
   ]
  },
  {
   "cell_type": "code",
   "execution_count": 21,
   "metadata": {},
   "outputs": [],
   "source": [
    "from tensorflow.keras import layers\n",
    "model.add(layers.Dense(64, activation = 'tanh', input_shape=(X_train.shape[1],)))\n",
    "# model.add(layers.Dropout(0.5))\n",
    "model.add(layers.Dense(64, activation = 'tanh'))\n",
    "model.add(layers.Dense(2, activation='softmax'))"
   ]
  },
  {
   "cell_type": "code",
   "execution_count": 22,
   "metadata": {},
   "outputs": [],
   "source": [
    "from tensorflow.keras.optimizers import RMSprop\n",
    "model.compile(optimizer=RMSprop(learning_rate=0.0001), loss='binary_crossentropy', metrics=['accuracy'])"
   ]
  },
  {
   "cell_type": "code",
   "execution_count": 23,
   "metadata": {
    "scrolled": true
   },
   "outputs": [
    {
     "name": "stdout",
     "output_type": "stream",
     "text": [
      "Epoch 1/100\n",
      "40/40 [==============================] - 0s 6ms/step - loss: 0.7008 - accuracy: 0.4922 - val_loss: 0.6881 - val_accuracy: 0.5344\n",
      "Epoch 2/100\n",
      "40/40 [==============================] - 0s 3ms/step - loss: 0.6824 - accuracy: 0.5734 - val_loss: 0.6730 - val_accuracy: 0.5719\n",
      "Epoch 3/100\n",
      "40/40 [==============================] - 0s 3ms/step - loss: 0.6688 - accuracy: 0.6070 - val_loss: 0.6611 - val_accuracy: 0.6281\n",
      "Epoch 4/100\n",
      "40/40 [==============================] - 0s 3ms/step - loss: 0.6601 - accuracy: 0.6203 - val_loss: 0.6530 - val_accuracy: 0.6500\n",
      "Epoch 5/100\n",
      "40/40 [==============================] - 0s 3ms/step - loss: 0.6478 - accuracy: 0.6320 - val_loss: 0.6478 - val_accuracy: 0.6406\n",
      "Epoch 6/100\n",
      "40/40 [==============================] - 0s 3ms/step - loss: 0.6389 - accuracy: 0.6562 - val_loss: 0.6416 - val_accuracy: 0.6375\n",
      "Epoch 7/100\n",
      "40/40 [==============================] - 0s 3ms/step - loss: 0.6328 - accuracy: 0.6656 - val_loss: 0.6473 - val_accuracy: 0.5906\n",
      "Epoch 8/100\n",
      "40/40 [==============================] - 0s 3ms/step - loss: 0.6264 - accuracy: 0.6711 - val_loss: 0.6400 - val_accuracy: 0.6094\n",
      "Epoch 9/100\n",
      "40/40 [==============================] - 0s 3ms/step - loss: 0.6165 - accuracy: 0.6781 - val_loss: 0.6303 - val_accuracy: 0.6406\n",
      "Epoch 10/100\n",
      "40/40 [==============================] - 0s 3ms/step - loss: 0.6139 - accuracy: 0.6812 - val_loss: 0.6259 - val_accuracy: 0.6719\n",
      "Epoch 11/100\n",
      "40/40 [==============================] - 0s 3ms/step - loss: 0.6060 - accuracy: 0.6844 - val_loss: 0.6266 - val_accuracy: 0.6656\n",
      "Epoch 12/100\n",
      "40/40 [==============================] - 0s 2ms/step - loss: 0.6015 - accuracy: 0.6969 - val_loss: 0.6210 - val_accuracy: 0.6844\n",
      "Epoch 13/100\n",
      "40/40 [==============================] - 0s 2ms/step - loss: 0.5935 - accuracy: 0.6953 - val_loss: 0.6197 - val_accuracy: 0.6812\n",
      "Epoch 14/100\n",
      "40/40 [==============================] - 0s 2ms/step - loss: 0.5905 - accuracy: 0.7055 - val_loss: 0.6187 - val_accuracy: 0.6875\n",
      "Epoch 15/100\n",
      "40/40 [==============================] - 0s 2ms/step - loss: 0.5833 - accuracy: 0.7008 - val_loss: 0.6232 - val_accuracy: 0.6625\n",
      "Epoch 16/100\n",
      "40/40 [==============================] - 0s 2ms/step - loss: 0.5790 - accuracy: 0.7227 - val_loss: 0.6166 - val_accuracy: 0.6875\n",
      "Epoch 17/100\n",
      "40/40 [==============================] - 0s 3ms/step - loss: 0.5767 - accuracy: 0.7203 - val_loss: 0.6169 - val_accuracy: 0.7031\n",
      "Epoch 18/100\n",
      "40/40 [==============================] - 0s 3ms/step - loss: 0.5707 - accuracy: 0.7234 - val_loss: 0.6195 - val_accuracy: 0.6844\n",
      "Epoch 19/100\n",
      "40/40 [==============================] - 0s 2ms/step - loss: 0.5671 - accuracy: 0.7219 - val_loss: 0.6207 - val_accuracy: 0.6812\n",
      "Epoch 20/100\n",
      "40/40 [==============================] - 0s 3ms/step - loss: 0.5629 - accuracy: 0.7141 - val_loss: 0.6432 - val_accuracy: 0.6219\n",
      "Epoch 21/100\n",
      "40/40 [==============================] - 0s 2ms/step - loss: 0.5570 - accuracy: 0.7164 - val_loss: 0.6176 - val_accuracy: 0.6938\n",
      "Epoch 22/100\n",
      "40/40 [==============================] - 0s 2ms/step - loss: 0.5546 - accuracy: 0.7219 - val_loss: 0.6206 - val_accuracy: 0.6938\n",
      "Epoch 23/100\n",
      "40/40 [==============================] - 0s 3ms/step - loss: 0.5505 - accuracy: 0.7328 - val_loss: 0.6328 - val_accuracy: 0.6750\n",
      "Epoch 24/100\n",
      "40/40 [==============================] - 0s 3ms/step - loss: 0.5467 - accuracy: 0.7266 - val_loss: 0.6312 - val_accuracy: 0.6750\n",
      "Epoch 25/100\n",
      "40/40 [==============================] - 0s 3ms/step - loss: 0.5426 - accuracy: 0.7227 - val_loss: 0.6211 - val_accuracy: 0.6875\n",
      "Epoch 26/100\n",
      "40/40 [==============================] - 0s 3ms/step - loss: 0.5439 - accuracy: 0.7344 - val_loss: 0.6241 - val_accuracy: 0.6687\n",
      "Epoch 27/100\n",
      "40/40 [==============================] - 0s 3ms/step - loss: 0.5413 - accuracy: 0.7414 - val_loss: 0.6222 - val_accuracy: 0.6812\n",
      "Epoch 28/100\n",
      "40/40 [==============================] - 0s 2ms/step - loss: 0.5351 - accuracy: 0.7461 - val_loss: 0.6233 - val_accuracy: 0.6719\n",
      "Epoch 29/100\n",
      "40/40 [==============================] - 0s 3ms/step - loss: 0.5360 - accuracy: 0.7508 - val_loss: 0.6241 - val_accuracy: 0.6656\n",
      "Epoch 30/100\n",
      "40/40 [==============================] - 0s 3ms/step - loss: 0.5300 - accuracy: 0.7422 - val_loss: 0.6292 - val_accuracy: 0.6594\n",
      "Epoch 31/100\n",
      "40/40 [==============================] - 0s 3ms/step - loss: 0.5258 - accuracy: 0.7523 - val_loss: 0.6300 - val_accuracy: 0.6687\n",
      "Epoch 32/100\n",
      "40/40 [==============================] - 0s 2ms/step - loss: 0.5246 - accuracy: 0.7539 - val_loss: 0.6264 - val_accuracy: 0.6687\n",
      "Epoch 33/100\n",
      "40/40 [==============================] - 0s 3ms/step - loss: 0.5216 - accuracy: 0.7578 - val_loss: 0.6290 - val_accuracy: 0.6750\n",
      "Epoch 34/100\n",
      "40/40 [==============================] - 0s 3ms/step - loss: 0.5215 - accuracy: 0.7516 - val_loss: 0.6301 - val_accuracy: 0.6781\n",
      "Epoch 35/100\n",
      "40/40 [==============================] - 0s 3ms/step - loss: 0.5173 - accuracy: 0.7531 - val_loss: 0.6320 - val_accuracy: 0.6656\n",
      "Epoch 36/100\n",
      "40/40 [==============================] - 0s 2ms/step - loss: 0.5159 - accuracy: 0.7539 - val_loss: 0.6303 - val_accuracy: 0.6719\n",
      "Epoch 37/100\n",
      "40/40 [==============================] - 0s 3ms/step - loss: 0.5131 - accuracy: 0.7547 - val_loss: 0.6331 - val_accuracy: 0.6656\n",
      "Epoch 38/100\n",
      "40/40 [==============================] - 0s 2ms/step - loss: 0.5070 - accuracy: 0.7625 - val_loss: 0.6339 - val_accuracy: 0.6719\n",
      "Epoch 39/100\n",
      "40/40 [==============================] - 0s 3ms/step - loss: 0.5112 - accuracy: 0.7617 - val_loss: 0.6396 - val_accuracy: 0.6719\n",
      "Epoch 40/100\n",
      "40/40 [==============================] - 0s 3ms/step - loss: 0.5047 - accuracy: 0.7633 - val_loss: 0.6350 - val_accuracy: 0.6625\n",
      "Epoch 41/100\n",
      "40/40 [==============================] - 0s 3ms/step - loss: 0.5060 - accuracy: 0.7578 - val_loss: 0.6651 - val_accuracy: 0.6375\n",
      "Epoch 42/100\n",
      "40/40 [==============================] - 0s 3ms/step - loss: 0.5034 - accuracy: 0.7633 - val_loss: 0.6377 - val_accuracy: 0.6625\n",
      "Epoch 43/100\n",
      "40/40 [==============================] - 0s 3ms/step - loss: 0.4971 - accuracy: 0.7578 - val_loss: 0.6399 - val_accuracy: 0.6562\n",
      "Epoch 44/100\n",
      "40/40 [==============================] - 0s 3ms/step - loss: 0.4953 - accuracy: 0.7586 - val_loss: 0.6490 - val_accuracy: 0.6469\n",
      "Epoch 45/100\n",
      "40/40 [==============================] - 0s 3ms/step - loss: 0.4981 - accuracy: 0.7664 - val_loss: 0.6412 - val_accuracy: 0.6625\n",
      "Epoch 46/100\n",
      "40/40 [==============================] - 0s 3ms/step - loss: 0.4937 - accuracy: 0.7664 - val_loss: 0.6651 - val_accuracy: 0.6250\n",
      "Epoch 47/100\n",
      "40/40 [==============================] - 0s 3ms/step - loss: 0.4927 - accuracy: 0.7594 - val_loss: 0.6669 - val_accuracy: 0.6156\n",
      "Epoch 48/100\n",
      "40/40 [==============================] - 0s 3ms/step - loss: 0.4877 - accuracy: 0.7773 - val_loss: 0.6481 - val_accuracy: 0.6719\n",
      "Epoch 49/100\n",
      "40/40 [==============================] - 0s 3ms/step - loss: 0.4845 - accuracy: 0.7711 - val_loss: 0.6473 - val_accuracy: 0.6594\n",
      "Epoch 50/100\n",
      "40/40 [==============================] - 0s 3ms/step - loss: 0.4841 - accuracy: 0.7633 - val_loss: 0.6476 - val_accuracy: 0.6687\n",
      "Epoch 51/100\n",
      "40/40 [==============================] - 0s 2ms/step - loss: 0.4789 - accuracy: 0.7773 - val_loss: 0.6502 - val_accuracy: 0.6594\n",
      "Epoch 52/100\n",
      "40/40 [==============================] - 0s 3ms/step - loss: 0.4825 - accuracy: 0.7625 - val_loss: 0.6509 - val_accuracy: 0.6562\n",
      "Epoch 53/100\n",
      "40/40 [==============================] - 0s 2ms/step - loss: 0.4823 - accuracy: 0.7664 - val_loss: 0.6587 - val_accuracy: 0.6469\n",
      "Epoch 54/100\n",
      "40/40 [==============================] - 0s 3ms/step - loss: 0.4786 - accuracy: 0.7688 - val_loss: 0.6538 - val_accuracy: 0.6750\n",
      "Epoch 55/100\n",
      "40/40 [==============================] - 0s 3ms/step - loss: 0.4744 - accuracy: 0.7742 - val_loss: 0.6871 - val_accuracy: 0.6687\n",
      "Epoch 56/100\n",
      "40/40 [==============================] - 0s 3ms/step - loss: 0.4798 - accuracy: 0.7734 - val_loss: 0.6657 - val_accuracy: 0.6406\n",
      "Epoch 57/100\n",
      "40/40 [==============================] - 0s 3ms/step - loss: 0.4769 - accuracy: 0.7805 - val_loss: 0.6585 - val_accuracy: 0.6531\n",
      "Epoch 58/100\n",
      "40/40 [==============================] - 0s 3ms/step - loss: 0.4695 - accuracy: 0.7867 - val_loss: 0.6948 - val_accuracy: 0.6594\n"
     ]
    },
    {
     "name": "stdout",
     "output_type": "stream",
     "text": [
      "Epoch 59/100\n",
      "40/40 [==============================] - 0s 3ms/step - loss: 0.4717 - accuracy: 0.7750 - val_loss: 0.6815 - val_accuracy: 0.6187\n",
      "Epoch 60/100\n",
      "40/40 [==============================] - 0s 3ms/step - loss: 0.4711 - accuracy: 0.7828 - val_loss: 0.6628 - val_accuracy: 0.6531\n",
      "Epoch 61/100\n",
      "40/40 [==============================] - 0s 3ms/step - loss: 0.4685 - accuracy: 0.7797 - val_loss: 0.6698 - val_accuracy: 0.6500\n",
      "Epoch 62/100\n",
      "40/40 [==============================] - 0s 3ms/step - loss: 0.4631 - accuracy: 0.7875 - val_loss: 0.6670 - val_accuracy: 0.6531\n",
      "Epoch 63/100\n",
      "40/40 [==============================] - 0s 3ms/step - loss: 0.4616 - accuracy: 0.7844 - val_loss: 0.6640 - val_accuracy: 0.6531\n",
      "Epoch 64/100\n",
      "40/40 [==============================] - 0s 3ms/step - loss: 0.4599 - accuracy: 0.7859 - val_loss: 0.6686 - val_accuracy: 0.6594\n",
      "Epoch 65/100\n",
      "40/40 [==============================] - 0s 3ms/step - loss: 0.4580 - accuracy: 0.7844 - val_loss: 0.6800 - val_accuracy: 0.6250\n",
      "Epoch 66/100\n",
      "40/40 [==============================] - 0s 3ms/step - loss: 0.4547 - accuracy: 0.7867 - val_loss: 0.6707 - val_accuracy: 0.6562\n",
      "Epoch 67/100\n",
      "40/40 [==============================] - 0s 3ms/step - loss: 0.4567 - accuracy: 0.7937 - val_loss: 0.6720 - val_accuracy: 0.6594\n",
      "Epoch 68/100\n",
      "40/40 [==============================] - 0s 3ms/step - loss: 0.4531 - accuracy: 0.7852 - val_loss: 0.6701 - val_accuracy: 0.6562\n",
      "Epoch 69/100\n",
      "40/40 [==============================] - 0s 3ms/step - loss: 0.4476 - accuracy: 0.7875 - val_loss: 0.6838 - val_accuracy: 0.6375\n",
      "Epoch 70/100\n",
      "40/40 [==============================] - 0s 3ms/step - loss: 0.4497 - accuracy: 0.7891 - val_loss: 0.6749 - val_accuracy: 0.6562\n",
      "Epoch 71/100\n",
      "40/40 [==============================] - 0s 3ms/step - loss: 0.4499 - accuracy: 0.7859 - val_loss: 0.6837 - val_accuracy: 0.6375\n",
      "Epoch 72/100\n",
      "40/40 [==============================] - 0s 3ms/step - loss: 0.4457 - accuracy: 0.7898 - val_loss: 0.6811 - val_accuracy: 0.6469\n",
      "Epoch 73/100\n",
      "40/40 [==============================] - 0s 3ms/step - loss: 0.4506 - accuracy: 0.7844 - val_loss: 0.6838 - val_accuracy: 0.6687\n",
      "Epoch 74/100\n",
      "40/40 [==============================] - 0s 2ms/step - loss: 0.4443 - accuracy: 0.7797 - val_loss: 0.6823 - val_accuracy: 0.6594\n",
      "Epoch 75/100\n",
      "40/40 [==============================] - 0s 2ms/step - loss: 0.4458 - accuracy: 0.7969 - val_loss: 0.6971 - val_accuracy: 0.6656\n",
      "Epoch 76/100\n",
      "40/40 [==============================] - 0s 2ms/step - loss: 0.4411 - accuracy: 0.8016 - val_loss: 0.6906 - val_accuracy: 0.6375\n",
      "Epoch 77/100\n",
      "40/40 [==============================] - 0s 2ms/step - loss: 0.4384 - accuracy: 0.7922 - val_loss: 0.6874 - val_accuracy: 0.6625\n",
      "Epoch 78/100\n",
      "40/40 [==============================] - 0s 3ms/step - loss: 0.4381 - accuracy: 0.8016 - val_loss: 0.6880 - val_accuracy: 0.6562\n",
      "Epoch 79/100\n",
      "40/40 [==============================] - 0s 3ms/step - loss: 0.4343 - accuracy: 0.8008 - val_loss: 0.6953 - val_accuracy: 0.6438\n",
      "Epoch 80/100\n",
      "40/40 [==============================] - 0s 3ms/step - loss: 0.4362 - accuracy: 0.7883 - val_loss: 0.6916 - val_accuracy: 0.6562\n",
      "Epoch 81/100\n",
      "40/40 [==============================] - 0s 3ms/step - loss: 0.4314 - accuracy: 0.8008 - val_loss: 0.6966 - val_accuracy: 0.6500\n",
      "Epoch 82/100\n",
      "40/40 [==============================] - 0s 3ms/step - loss: 0.4356 - accuracy: 0.7922 - val_loss: 0.6972 - val_accuracy: 0.6500\n",
      "Epoch 83/100\n",
      "40/40 [==============================] - 0s 3ms/step - loss: 0.4324 - accuracy: 0.7969 - val_loss: 0.7062 - val_accuracy: 0.6313\n",
      "Epoch 84/100\n",
      "40/40 [==============================] - 0s 3ms/step - loss: 0.4257 - accuracy: 0.8125 - val_loss: 0.7226 - val_accuracy: 0.6062\n",
      "Epoch 85/100\n",
      "40/40 [==============================] - 0s 3ms/step - loss: 0.4279 - accuracy: 0.8000 - val_loss: 0.7374 - val_accuracy: 0.6000\n",
      "Epoch 86/100\n",
      "40/40 [==============================] - 0s 3ms/step - loss: 0.4214 - accuracy: 0.7984 - val_loss: 0.7230 - val_accuracy: 0.6094\n",
      "Epoch 87/100\n",
      "40/40 [==============================] - 0s 3ms/step - loss: 0.4222 - accuracy: 0.8078 - val_loss: 0.7038 - val_accuracy: 0.6687\n",
      "Epoch 88/100\n",
      "40/40 [==============================] - 0s 3ms/step - loss: 0.4286 - accuracy: 0.7961 - val_loss: 0.7082 - val_accuracy: 0.6438\n",
      "Epoch 89/100\n",
      "40/40 [==============================] - 0s 3ms/step - loss: 0.4188 - accuracy: 0.8078 - val_loss: 0.7730 - val_accuracy: 0.6438\n",
      "Epoch 90/100\n",
      "40/40 [==============================] - 0s 3ms/step - loss: 0.4247 - accuracy: 0.8031 - val_loss: 0.7128 - val_accuracy: 0.6313\n",
      "Epoch 91/100\n",
      "40/40 [==============================] - 0s 3ms/step - loss: 0.4170 - accuracy: 0.8039 - val_loss: 0.7115 - val_accuracy: 0.6406\n",
      "Epoch 92/100\n",
      "40/40 [==============================] - 0s 3ms/step - loss: 0.4169 - accuracy: 0.8102 - val_loss: 0.7136 - val_accuracy: 0.6562\n",
      "Epoch 93/100\n",
      "40/40 [==============================] - 0s 3ms/step - loss: 0.4169 - accuracy: 0.8078 - val_loss: 0.7184 - val_accuracy: 0.6594\n",
      "Epoch 94/100\n",
      "40/40 [==============================] - 0s 3ms/step - loss: 0.4089 - accuracy: 0.8109 - val_loss: 0.7390 - val_accuracy: 0.6531\n",
      "Epoch 95/100\n",
      "40/40 [==============================] - 0s 3ms/step - loss: 0.4132 - accuracy: 0.8023 - val_loss: 0.7225 - val_accuracy: 0.6344\n",
      "Epoch 96/100\n",
      "40/40 [==============================] - 0s 3ms/step - loss: 0.4086 - accuracy: 0.8000 - val_loss: 0.7330 - val_accuracy: 0.6625\n",
      "Epoch 97/100\n",
      "40/40 [==============================] - 0s 3ms/step - loss: 0.4048 - accuracy: 0.8164 - val_loss: 0.7197 - val_accuracy: 0.6625\n",
      "Epoch 98/100\n",
      "40/40 [==============================] - 0s 3ms/step - loss: 0.4088 - accuracy: 0.8188 - val_loss: 0.7251 - val_accuracy: 0.6625\n",
      "Epoch 99/100\n",
      "40/40 [==============================] - 0s 3ms/step - loss: 0.4041 - accuracy: 0.8148 - val_loss: 0.7340 - val_accuracy: 0.6531\n",
      "Epoch 100/100\n",
      "40/40 [==============================] - 0s 3ms/step - loss: 0.4046 - accuracy: 0.8133 - val_loss: 0.7279 - val_accuracy: 0.6625\n"
     ]
    }
   ],
   "source": [
    "history = model.fit(X_train, y_train, epochs=100, batch_size=32, validation_split=0.2)"
   ]
  },
  {
   "cell_type": "code",
   "execution_count": 24,
   "metadata": {},
   "outputs": [
    {
     "name": "stdout",
     "output_type": "stream",
     "text": [
      "13/13 [==============================] - 0s 1ms/step - loss: 0.7237 - accuracy: 0.6500\n"
     ]
    },
    {
     "data": {
      "text/plain": [
       "0.6499999761581421"
      ]
     },
     "execution_count": 24,
     "metadata": {},
     "output_type": "execute_result"
    }
   ],
   "source": [
    "model.evaluate(X_test,y_test)[1]"
   ]
  },
  {
   "cell_type": "code",
   "execution_count": 25,
   "metadata": {},
   "outputs": [
    {
     "data": {
      "image/png": "[encoded data removed]",
      "text/plain": [
       "<Figure size 432x288 with 1 Axes>"
      ]
     },
     "metadata": {
      "needs_background": "light"
     },
     "output_type": "display_data"
    }
   ],
   "source": [
    "import matplotlib.pyplot as plt\n",
    "plt.plot(history.history['loss'])\n",
    "plt.plot(history.history['val_loss'])\n",
    "plt.xlabel('epoch')\n",
    "plt.ylabel('loss')\n",
    "plt.legend(['train','val'])\n",
    "plt.show()"
   ]
  },
  {
   "cell_type": "code",
   "execution_count": 57,
   "metadata": {},
   "outputs": [
    {
     "data": {
      "image/png": "[encoded data removed]",
      "text/plain": [
       "<Figure size 432x288 with 1 Axes>"
      ]
     },
     "metadata": {
      "needs_background": "light"
     },
     "output_type": "display_data"
    }
   ],
   "source": [
    "import matplotlib.pyplot as plt\n",
    "plt.plot(history.history['accuracy'])\n",
    "plt.plot(history.history['val_accuracy'])\n",
    "plt.xlabel('epoch')\n",
    "plt.ylabel('acc')\n",
    "plt.legend(['train','val'])\n",
    "plt.show()"
   ]
  },
  {
   "cell_type": "markdown",
   "metadata": {},
   "source": [
    "## BoW 모형 사용해보기"
   ]
  },
  {
   "cell_type": "code",
   "execution_count": 30,
   "metadata": {},
   "outputs": [],
   "source": [
    "selected_texts = texts[:2000]"
   ]
  },
  {
   "cell_type": "code",
   "execution_count": 31,
   "metadata": {},
   "outputs": [],
   "source": [
    "# To split the data into training and test datasets\n",
    "from sklearn.model_selection import train_test_split\n",
    "train_texts, test_texts, train_labels, test_labels = train_test_split(selected_texts, selected_labels, test_size=0.2, random_state=0)"
   ]
  },
  {
   "cell_type": "code",
   "execution_count": 32,
   "metadata": {},
   "outputs": [],
   "source": [
    "from sklearn.feature_extraction.text import CountVectorizer\n",
    "tf_vectorizer = CountVectorizer(min_df=1, ngram_range=(1,1)) \n",
    "train_tf_features = tf_vectorizer.fit_transform(train_texts)\n",
    "test_tf_features = tf_vectorizer.transform(test_texts)"
   ]
  },
  {
   "cell_type": "code",
   "execution_count": 33,
   "metadata": {},
   "outputs": [],
   "source": [
    "from sklearn.linear_model import LogisticRegression\n",
    "lr2 = LogisticRegression(C=0.1, penalty='l2', solver='saga', max_iter=2000)\n",
    "lr2.fit(train_tf_features, train_labels) # 학습\n",
    "pred_labels = lr2.predict(test_tf_features)"
   ]
  },
  {
   "cell_type": "code",
   "execution_count": 34,
   "metadata": {},
   "outputs": [
    {
     "name": "stdout",
     "output_type": "stream",
     "text": [
      "Misclassified samples: 93 out of 400\n",
      "Accuracy: 0.77\n"
     ]
    }
   ],
   "source": [
    "from sklearn.metrics import accuracy_score\n",
    "print('Misclassified samples: {} out of {}'.format((pred_labels != test_labels).sum(),len(test_labels)))\n",
    "print('Accuracy: %.2f' % accuracy_score(test_labels, pred_labels))"
   ]
  },
  {
   "cell_type": "code",
   "execution_count": null,
   "metadata": {},
   "outputs": [],
   "source": []
  }
 ],
 "metadata": {
  "kernelspec": {
   "display_name": "Python 3",
   "language": "python",
   "name": "python3"
  },
  "language_info": {
   "codemirror_mode": {
    "name": "ipython",
    "version": 3
   },
   "file_extension": ".py",
   "mimetype": "text/x-python",
   "name": "python",
   "nbconvert_exporter": "python",
   "pygments_lexer": "ipython3",
   "version": "3.8.8"
  }
 },
 "nbformat": 4,
 "nbformat_minor": 2
}
