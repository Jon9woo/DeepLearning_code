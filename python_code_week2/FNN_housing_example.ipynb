{
 "cells": [
  {
   "cell_type": "code",
   "execution_count": 1,
   "metadata": {},
   "outputs": [],
   "source": [
    "import tensorflow as tf\n",
    "from tensorflow import keras\n",
    "(train_data, train_targets), (test_data, test_targets) =keras.datasets.boston_housing.load_data()"
   ]
  },
  {
   "cell_type": "code",
   "execution_count": 2,
   "metadata": {},
   "outputs": [
    {
     "data": {
      "text/plain": [
       "(404, 13)"
      ]
     },
     "execution_count": 2,
     "metadata": {},
     "output_type": "execute_result"
    }
   ],
   "source": [
    "train_data.shape"
   ]
  },
  {
   "cell_type": "markdown",
   "metadata": {},
   "source": [
    "404개의 data points <br>\n",
    "13개의 독립변수"
   ]
  },
  {
   "cell_type": "code",
   "execution_count": 3,
   "metadata": {},
   "outputs": [
    {
     "data": {
      "text/plain": [
       "array([  1.23247,   0.     ,   8.14   ,   0.     ,   0.538  ,   6.142  ,\n",
       "        91.7    ,   3.9769 ,   4.     , 307.     ,  21.     , 396.9    ,\n",
       "        18.72   ])"
      ]
     },
     "execution_count": 3,
     "metadata": {},
     "output_type": "execute_result"
    }
   ],
   "source": [
    "train_data[0]"
   ]
  },
  {
   "cell_type": "code",
   "execution_count": 4,
   "metadata": {},
   "outputs": [
    {
     "data": {
      "text/plain": [
       "array([15.2, 42.3, 50. , 21.1, 17.7])"
      ]
     },
     "execution_count": 4,
     "metadata": {},
     "output_type": "execute_result"
    }
   ],
   "source": [
    "train_targets[:5]"
   ]
  },
  {
   "cell_type": "markdown",
   "metadata": {},
   "source": [
    "종속변수는 미국 Boston에 속한 도시들의 70년대 중반 집들의 중간값 <br>\n",
    "data point는 도시 <br>\n",
    "독립변수는 범죄율, 평균 소득 등 <br>\n",
    "10 = > $ 10K"
   ]
  },
  {
   "cell_type": "markdown",
   "metadata": {},
   "source": [
    "데이터 표준화하기"
   ]
  },
  {
   "cell_type": "code",
   "execution_count": 5,
   "metadata": {},
   "outputs": [],
   "source": [
    "from sklearn.preprocessing import StandardScaler\n",
    "scaler = StandardScaler()"
   ]
  },
  {
   "cell_type": "code",
   "execution_count": 6,
   "metadata": {},
   "outputs": [],
   "source": [
    "train_data = scaler.fit_transform(train_data)\n",
    "test_data = scaler.transform(test_data)"
   ]
  },
  {
   "cell_type": "code",
   "execution_count": 7,
   "metadata": {},
   "outputs": [],
   "source": [
    "from tensorflow.keras import models\n",
    "from tensorflow.keras import layers"
   ]
  },
  {
   "cell_type": "code",
   "execution_count": 8,
   "metadata": {},
   "outputs": [
    {
     "data": {
      "text/plain": [
       "13"
      ]
     },
     "execution_count": 8,
     "metadata": {},
     "output_type": "execute_result"
    }
   ],
   "source": [
    "train_data.shape[1]"
   ]
  },
  {
   "cell_type": "code",
   "execution_count": 9,
   "metadata": {},
   "outputs": [],
   "source": [
    "model = models.Sequential()\n",
    "# 입력층을 별도로 추가하지 않는다!\n",
    "model.add(layers.Dense(64, activation = 'relu', input_shape=(train_data.shape[1],)))\n",
    "model.add(layers.Dense(64, activation = 'relu'))\n",
    "model.add(layers.Dense(1))"
   ]
  },
  {
   "cell_type": "code",
   "execution_count": 10,
   "metadata": {},
   "outputs": [],
   "source": [
    "# ReLU 클래스와 LeakyReLU 클래스 사용해서 활성화함수 추가해 보기\n",
    "\n",
    "# model = models.Sequential()\n",
    "# model.add(layers.Dense(64, input_shape=(train_data.shape[1],)))\n",
    "# model.add(layers.ReLU())\n",
    "# model.add(layers.Dense(64))\n",
    "# model.add(layers.LeakyReLU(alpha=0.01))\n",
    "# model.add(layers.Dense(1))"
   ]
  },
  {
   "cell_type": "code",
   "execution_count": 11,
   "metadata": {},
   "outputs": [],
   "source": [
    "# 다음과 같이 활성화 함수를 추가하는 것도 가능함\n",
    "# from tensorflow.keras import activations\n",
    "\n",
    "# model = models.Sequential()\n",
    "# model.add(layers.Dense(64, input_shape=(train_data.shape[1],)))\n",
    "# model.add(model.add(layers.Activation(activations.relu)))\n",
    "\n",
    "# 보다 자세한 내용은 https://keras.io/api/layers/activations/"
   ]
  },
  {
   "cell_type": "code",
   "execution_count": 12,
   "metadata": {
    "scrolled": true
   },
   "outputs": [
    {
     "name": "stdout",
     "output_type": "stream",
     "text": [
      "Model: \"sequential\"\n",
      "_________________________________________________________________\n",
      "Layer (type)                 Output Shape              Param #   \n",
      "=================================================================\n",
      "dense (Dense)                (None, 64)                896       \n",
      "_________________________________________________________________\n",
      "dense_1 (Dense)              (None, 64)                4160      \n",
      "_________________________________________________________________\n",
      "dense_2 (Dense)              (None, 1)                 65        \n",
      "=================================================================\n",
      "Total params: 5,121\n",
      "Trainable params: 5,121\n",
      "Non-trainable params: 0\n",
      "_________________________________________________________________\n"
     ]
    }
   ],
   "source": [
    "model.summary()"
   ]
  },
  {
   "cell_type": "markdown",
   "metadata": {},
   "source": [
    "- output shape의 None은 sample size를 뜻하는데 미니배치 방식으로 경사하강법을 시행할 시, 배치의 크기 (즉, 샘플의 개수)가 그 자리에 들어가게 됨\n",
    "- 첫 번째 파라미터 값(896)의 경우, 14(편향노드 포함) * 64(편향노드 포함 X)의 결과로 도출된 것\n",
    "- 두 번째 파라미터 값은 65(편향노드 포함) * 64"
   ]
  },
  {
   "cell_type": "markdown",
   "metadata": {},
   "source": [
    "종속변수가 연속변수이기 때문에 마지막 layer에는 node가 하나밖에 없다. "
   ]
  },
  {
   "cell_type": "code",
   "execution_count": 13,
   "metadata": {},
   "outputs": [],
   "source": [
    "# Optimizer 종류 => https://keras.io/api/optimizers/\n",
    "adam = tf.keras.optimizers.Adam(learning_rate=0.001)"
   ]
  },
  {
   "cell_type": "code",
   "execution_count": 14,
   "metadata": {},
   "outputs": [],
   "source": [
    "model.compile(optimizer=adam, loss='mse')"
   ]
  },
  {
   "cell_type": "code",
   "execution_count": 15,
   "metadata": {
    "scrolled": true
   },
   "outputs": [
    {
     "name": "stdout",
     "output_type": "stream",
     "text": [
      "Epoch 1/80\n",
      "33/33 [==============================] - 3s 64ms/step - loss: 562.0264 - val_loss: 489.1145\n",
      "Epoch 2/80\n",
      "33/33 [==============================] - 0s 3ms/step - loss: 343.5942 - val_loss: 223.1961\n",
      "Epoch 3/80\n",
      "33/33 [==============================] - 0s 3ms/step - loss: 109.1315 - val_loss: 97.8012\n",
      "Epoch 4/80\n",
      "33/33 [==============================] - 0s 3ms/step - loss: 68.3143 - val_loss: 63.7535\n",
      "Epoch 5/80\n",
      "33/33 [==============================] - 0s 3ms/step - loss: 41.2718 - val_loss: 46.2318\n",
      "Epoch 6/80\n",
      "33/33 [==============================] - 0s 3ms/step - loss: 25.1535 - val_loss: 37.1272\n",
      "Epoch 7/80\n",
      "33/33 [==============================] - 0s 3ms/step - loss: 28.1174 - val_loss: 30.7548\n",
      "Epoch 8/80\n",
      "33/33 [==============================] - 0s 3ms/step - loss: 23.7167 - val_loss: 27.0990\n",
      "Epoch 9/80\n",
      "33/33 [==============================] - 0s 3ms/step - loss: 23.0470 - val_loss: 23.8563\n",
      "Epoch 10/80\n",
      "33/33 [==============================] - 0s 3ms/step - loss: 18.5402 - val_loss: 21.8407\n",
      "Epoch 11/80\n",
      "33/33 [==============================] - 0s 3ms/step - loss: 18.2158 - val_loss: 19.7321\n",
      "Epoch 12/80\n",
      "33/33 [==============================] - 0s 3ms/step - loss: 23.8660 - val_loss: 18.7332\n",
      "Epoch 13/80\n",
      "33/33 [==============================] - 0s 3ms/step - loss: 13.3288 - val_loss: 17.0882\n",
      "Epoch 14/80\n",
      "33/33 [==============================] - 0s 4ms/step - loss: 14.0968 - val_loss: 16.3662\n",
      "Epoch 15/80\n",
      "33/33 [==============================] - 0s 3ms/step - loss: 16.5847 - val_loss: 15.2313\n",
      "Epoch 16/80\n",
      "33/33 [==============================] - 0s 3ms/step - loss: 11.3810 - val_loss: 15.2658\n",
      "Epoch 17/80\n",
      "33/33 [==============================] - 0s 3ms/step - loss: 15.2690 - val_loss: 14.7513\n",
      "Epoch 18/80\n",
      "33/33 [==============================] - 0s 3ms/step - loss: 14.0525 - val_loss: 14.3940\n",
      "Epoch 19/80\n",
      "33/33 [==============================] - 0s 3ms/step - loss: 10.1703 - val_loss: 14.0249\n",
      "Epoch 20/80\n",
      "33/33 [==============================] - 0s 3ms/step - loss: 10.6119 - val_loss: 13.8623\n",
      "Epoch 21/80\n",
      "33/33 [==============================] - 0s 3ms/step - loss: 11.3682 - val_loss: 13.9636\n",
      "Epoch 22/80\n",
      "33/33 [==============================] - 0s 3ms/step - loss: 10.4968 - val_loss: 13.6080\n",
      "Epoch 23/80\n",
      "33/33 [==============================] - 0s 3ms/step - loss: 10.0941 - val_loss: 13.6612\n",
      "Epoch 24/80\n",
      "33/33 [==============================] - 0s 3ms/step - loss: 9.6560 - val_loss: 13.3675\n",
      "Epoch 25/80\n",
      "33/33 [==============================] - 0s 3ms/step - loss: 7.8045 - val_loss: 13.4057\n",
      "Epoch 26/80\n",
      "33/33 [==============================] - 0s 3ms/step - loss: 9.4562 - val_loss: 13.4757\n",
      "Epoch 27/80\n",
      "33/33 [==============================] - 0s 3ms/step - loss: 10.0080 - val_loss: 13.2020\n",
      "Epoch 28/80\n",
      "33/33 [==============================] - 0s 3ms/step - loss: 9.8336 - val_loss: 13.1020\n",
      "Epoch 29/80\n",
      "33/33 [==============================] - 0s 3ms/step - loss: 8.0888 - val_loss: 14.1658\n",
      "Epoch 30/80\n",
      "33/33 [==============================] - 0s 3ms/step - loss: 8.1303 - val_loss: 13.3590\n",
      "Epoch 31/80\n",
      "33/33 [==============================] - 0s 3ms/step - loss: 7.5547 - val_loss: 13.4611\n",
      "Epoch 32/80\n",
      "33/33 [==============================] - 0s 3ms/step - loss: 7.8954 - val_loss: 12.8865\n",
      "Epoch 33/80\n",
      "33/33 [==============================] - 0s 3ms/step - loss: 9.7573 - val_loss: 13.0738\n",
      "Epoch 34/80\n",
      "33/33 [==============================] - 0s 3ms/step - loss: 8.7766 - val_loss: 13.0945\n",
      "Epoch 35/80\n",
      "33/33 [==============================] - 0s 3ms/step - loss: 9.9629 - val_loss: 12.9057\n",
      "Epoch 36/80\n",
      "33/33 [==============================] - 0s 3ms/step - loss: 7.2931 - val_loss: 13.2412\n",
      "Epoch 37/80\n",
      "33/33 [==============================] - 0s 3ms/step - loss: 9.0524 - val_loss: 13.2415\n",
      "Epoch 38/80\n",
      "33/33 [==============================] - 0s 3ms/step - loss: 5.9702 - val_loss: 12.9117\n",
      "Epoch 39/80\n",
      "33/33 [==============================] - 0s 4ms/step - loss: 6.6741 - val_loss: 13.5660\n",
      "Epoch 40/80\n",
      "33/33 [==============================] - 0s 4ms/step - loss: 7.7403 - val_loss: 14.0361\n",
      "Epoch 41/80\n",
      "33/33 [==============================] - 0s 5ms/step - loss: 8.0901 - val_loss: 13.7662\n",
      "Epoch 42/80\n",
      "33/33 [==============================] - 0s 5ms/step - loss: 7.7063 - val_loss: 13.5070\n",
      "Epoch 43/80\n",
      "33/33 [==============================] - 0s 4ms/step - loss: 8.5935 - val_loss: 13.0857\n",
      "Epoch 44/80\n",
      "33/33 [==============================] - 0s 3ms/step - loss: 6.1688 - val_loss: 14.0460\n",
      "Epoch 45/80\n",
      "33/33 [==============================] - 0s 3ms/step - loss: 9.0455 - val_loss: 13.5617\n",
      "Epoch 46/80\n",
      "33/33 [==============================] - 0s 4ms/step - loss: 6.5365 - val_loss: 13.6333\n",
      "Epoch 47/80\n",
      "33/33 [==============================] - 0s 4ms/step - loss: 6.7359 - val_loss: 13.2725\n",
      "Epoch 48/80\n",
      "33/33 [==============================] - 0s 4ms/step - loss: 7.1437 - val_loss: 13.7500\n",
      "Epoch 49/80\n",
      "33/33 [==============================] - 0s 3ms/step - loss: 7.3270 - val_loss: 13.4948\n",
      "Epoch 50/80\n",
      "33/33 [==============================] - 0s 3ms/step - loss: 6.8264 - val_loss: 13.0081\n",
      "Epoch 51/80\n",
      "33/33 [==============================] - 0s 3ms/step - loss: 7.3470 - val_loss: 14.2886\n",
      "Epoch 52/80\n",
      "33/33 [==============================] - 0s 3ms/step - loss: 7.7499 - val_loss: 14.0270\n",
      "Epoch 53/80\n",
      "33/33 [==============================] - 0s 3ms/step - loss: 6.9791 - val_loss: 14.3909\n",
      "Epoch 54/80\n",
      "33/33 [==============================] - 0s 3ms/step - loss: 6.4215 - val_loss: 14.7135\n",
      "Epoch 55/80\n",
      "33/33 [==============================] - 0s 3ms/step - loss: 7.8059 - val_loss: 14.4635\n",
      "Epoch 56/80\n",
      "33/33 [==============================] - 0s 3ms/step - loss: 10.7925 - val_loss: 14.4180\n",
      "Epoch 57/80\n",
      "33/33 [==============================] - 0s 4ms/step - loss: 7.0379 - val_loss: 14.1292\n",
      "Epoch 58/80\n",
      "33/33 [==============================] - 0s 3ms/step - loss: 8.5202 - val_loss: 14.0627\n",
      "Epoch 59/80\n",
      "33/33 [==============================] - 0s 3ms/step - loss: 5.6685 - val_loss: 14.6504\n",
      "Epoch 60/80\n",
      "33/33 [==============================] - 0s 3ms/step - loss: 6.5912 - val_loss: 14.3692\n",
      "Epoch 61/80\n",
      "33/33 [==============================] - 0s 3ms/step - loss: 5.8261 - val_loss: 14.7307\n",
      "Epoch 62/80\n",
      "33/33 [==============================] - 0s 4ms/step - loss: 7.2720 - val_loss: 13.6745\n",
      "Epoch 63/80\n",
      "33/33 [==============================] - 0s 3ms/step - loss: 5.2314 - val_loss: 14.2644\n",
      "Epoch 64/80\n",
      "33/33 [==============================] - 0s 3ms/step - loss: 6.0724 - val_loss: 14.6651\n",
      "Epoch 65/80\n",
      "33/33 [==============================] - 0s 4ms/step - loss: 5.1410 - val_loss: 14.6975\n",
      "Epoch 66/80\n",
      "33/33 [==============================] - 0s 3ms/step - loss: 6.2222 - val_loss: 14.4966\n",
      "Epoch 67/80\n",
      "33/33 [==============================] - 0s 3ms/step - loss: 6.7711 - val_loss: 14.0966\n",
      "Epoch 68/80\n",
      "33/33 [==============================] - 0s 5ms/step - loss: 4.7432 - val_loss: 14.6824\n",
      "Epoch 69/80\n",
      "33/33 [==============================] - 0s 4ms/step - loss: 5.5910 - val_loss: 14.7335\n",
      "Epoch 70/80\n",
      "33/33 [==============================] - 0s 4ms/step - loss: 8.1769 - val_loss: 14.1256\n",
      "Epoch 71/80\n",
      "33/33 [==============================] - 0s 3ms/step - loss: 9.3876 - val_loss: 13.5575\n",
      "Epoch 72/80\n",
      "33/33 [==============================] - 0s 3ms/step - loss: 7.9687 - val_loss: 14.4234\n",
      "Epoch 73/80\n",
      "33/33 [==============================] - 0s 3ms/step - loss: 4.3545 - val_loss: 14.4147\n",
      "Epoch 74/80\n",
      "33/33 [==============================] - 0s 3ms/step - loss: 7.0034 - val_loss: 14.1340\n",
      "Epoch 75/80\n",
      "33/33 [==============================] - 0s 3ms/step - loss: 6.6733 - val_loss: 14.3506\n",
      "Epoch 76/80\n",
      "33/33 [==============================] - 0s 3ms/step - loss: 6.4041 - val_loss: 14.6804\n",
      "Epoch 77/80\n",
      "33/33 [==============================] - 0s 3ms/step - loss: 6.1466 - val_loss: 14.3675\n",
      "Epoch 78/80\n",
      "33/33 [==============================] - 0s 3ms/step - loss: 6.3351 - val_loss: 14.1656\n",
      "Epoch 79/80\n",
      "33/33 [==============================] - 0s 3ms/step - loss: 5.9763 - val_loss: 14.1558\n",
      "Epoch 80/80\n",
      "33/33 [==============================] - 0s 3ms/step - loss: 5.9073 - val_loss: 14.6843\n"
     ]
    }
   ],
   "source": [
    "# model.fit(train_data, train_targets, epochs=80, batch_size=16 -> 전통적으로는 2의 배수를 사용)\n",
    "history = model.fit(train_data, train_targets, epochs=80, batch_size=10, validation_split=0.2)"
   ]
  },
  {
   "cell_type": "code",
   "execution_count": 16,
   "metadata": {},
   "outputs": [
    {
     "data": {
      "text/plain": [
       "dict_keys(['loss', 'val_loss'])"
      ]
     },
     "execution_count": 16,
     "metadata": {},
     "output_type": "execute_result"
    }
   ],
   "source": [
    "history.history.keys()"
   ]
  },
  {
   "cell_type": "markdown",
   "metadata": {},
   "source": [
    "## Loss 값 변화 살펴보기"
   ]
  },
  {
   "cell_type": "code",
   "execution_count": 17,
   "metadata": {},
   "outputs": [],
   "source": [
    "import matplotlib.pyplot as plt"
   ]
  },
  {
   "cell_type": "code",
   "execution_count": 18,
   "metadata": {},
   "outputs": [
    {
     "data": {
      "image/png": "[encoded data removed]",
      "text/plain": [
       "<Figure size 432x288 with 1 Axes>"
      ]
     },
     "metadata": {
      "needs_background": "light"
     },
     "output_type": "display_data"
    }
   ],
   "source": [
    "plt.plot(history.history['loss'])\n",
    "plt.plot(history.history['val_loss'])\n",
    "plt.xlabel('epoch')\n",
    "plt.ylabel('loss')\n",
    "plt.legend(['train', 'val'])\n",
    "plt.show()"
   ]
  },
  {
   "cell_type": "markdown",
   "metadata": {},
   "source": [
    "# 성능 평가하기"
   ]
  },
  {
   "cell_type": "code",
   "execution_count": 19,
   "metadata": {},
   "outputs": [],
   "source": [
    "from sklearn.metrics import r2_score"
   ]
  },
  {
   "cell_type": "code",
   "execution_count": 20,
   "metadata": {},
   "outputs": [
    {
     "data": {
      "text/plain": [
       "0.7332139179325152"
      ]
     },
     "execution_count": 20,
     "metadata": {},
     "output_type": "execute_result"
    }
   ],
   "source": [
    "y_pred = model.predict(test_data)\n",
    "r2_score(test_targets, y_pred)"
   ]
  },
  {
   "cell_type": "code",
   "execution_count": null,
   "metadata": {},
   "outputs": [],
   "source": []
  },
  {
   "cell_type": "code",
   "execution_count": null,
   "metadata": {},
   "outputs": [],
   "source": []
  }
 ],
 "metadata": {
  "kernelspec": {
   "display_name": "Python 3",
   "language": "python",
   "name": "python3"
  },
  "language_info": {
   "codemirror_mode": {
    "name": "ipython",
    "version": 3
   },
   "file_extension": ".py",
   "mimetype": "text/x-python",
   "name": "python",
   "nbconvert_exporter": "python",
   "pygments_lexer": "ipython3",
   "version": "3.8.3"
  }
 },
 "nbformat": 4,
 "nbformat_minor": 2
}
