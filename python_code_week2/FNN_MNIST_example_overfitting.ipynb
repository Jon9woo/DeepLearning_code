{
 "cells": [
  {
   "cell_type": "code",
   "execution_count": 1,
   "metadata": {},
   "outputs": [],
   "source": [
    "import tensorflow as tf\n",
    "from tensorflow import keras"
   ]
  },
  {
   "cell_type": "code",
   "execution_count": 2,
   "metadata": {},
   "outputs": [],
   "source": [
    "(train_images, train_labels), (test_images, test_labels) = keras.datasets.mnist.load_data()"
   ]
  },
  {
   "cell_type": "code",
   "execution_count": 3,
   "metadata": {},
   "outputs": [],
   "source": [
    "from tensorflow.keras import models\n",
    "from tensorflow.keras import layers"
   ]
  },
  {
   "cell_type": "code",
   "execution_count": 4,
   "metadata": {},
   "outputs": [],
   "source": [
    "model = models.Sequential()\n",
    "model.add(layers.Dense(512, activation = 'relu', input_shape=(28*28,)))\n",
    "model.add(layers.Dense(10, activation = 'softmax'))\n",
    "model.summary()"
   ]
  },
  {
   "cell_type": "code",
   "execution_count": 8,
   "metadata": {},
   "outputs": [],
   "source": [
    "train_images = train_images.reshape((60000, 28*28))\n",
    "test_images = test_images.reshape((10000, 28*28))"
   ]
  },
  {
   "cell_type": "code",
   "execution_count": 10,
   "metadata": {},
   "outputs": [],
   "source": [
    "train_images = train_images.astype('float32')/255\n",
    "test_images = test_images.astype('float32')/255"
   ]
  },
  {
   "cell_type": "code",
   "execution_count": 11,
   "metadata": {},
   "outputs": [],
   "source": [
    "from tensorflow.keras.utils import to_categorical\n",
    "train_labels_one_hot = to_categorical(train_labels)\n",
    "test_labels_one_hot = to_categorical(test_labels)"
   ]
  },
  {
   "cell_type": "code",
   "execution_count": 15,
   "metadata": {},
   "outputs": [],
   "source": [
    "from tensorflow.keras import optimizers\n",
    "rmsprop = optimizers.RMSprop(learning_rate=0.001)"
   ]
  },
  {
   "cell_type": "code",
   "execution_count": 16,
   "metadata": {},
   "outputs": [],
   "source": [
    "model.compile(optimizer=rmsprop,\n",
    "               loss='categorical_crossentropy',\n",
    "               metrics=['accuracy'])\n",
    "# metrics => 모형의 성능을 무엇으로 평가할 것인지에 대한 것\n",
    "# 'accuracy' => 전체의 관측치 중에서 몇 개 관측치의 종속변수 값을 제대로 맞혔는지를 의미"
   ]
  },
  {
   "cell_type": "code",
   "execution_count": 17,
   "metadata": {},
   "outputs": [
    {
     "name": "stdout",
     "output_type": "stream",
     "text": [
      "Epoch 1/20\n",
      "375/375 [==============================] - 6s 16ms/step - loss: 0.2886 - accuracy: 0.9148 - val_loss: 0.1518 - val_accuracy: 0.9554\n",
      "Epoch 2/20\n",
      "375/375 [==============================] - 6s 15ms/step - loss: 0.1205 - accuracy: 0.9638 - val_loss: 0.1137 - val_accuracy: 0.9656\n",
      "Epoch 3/20\n",
      "375/375 [==============================] - 6s 16ms/step - loss: 0.0785 - accuracy: 0.9771 - val_loss: 0.0940 - val_accuracy: 0.9715\n",
      "Epoch 4/20\n",
      "375/375 [==============================] - 6s 16ms/step - loss: 0.0565 - accuracy: 0.9831 - val_loss: 0.0879 - val_accuracy: 0.9758\n",
      "Epoch 5/20\n",
      "375/375 [==============================] - 6s 16ms/step - loss: 0.0423 - accuracy: 0.9876 - val_loss: 0.0823 - val_accuracy: 0.9773\n",
      "Epoch 6/20\n",
      "375/375 [==============================] - 9s 23ms/step - loss: 0.0321 - accuracy: 0.9907 - val_loss: 0.0804 - val_accuracy: 0.9777\n",
      "Epoch 7/20\n",
      "375/375 [==============================] - 10s 27ms/step - loss: 0.0243 - accuracy: 0.9926 - val_loss: 0.0792 - val_accuracy: 0.9778oss: 0.0237 - \n",
      "Epoch 8/20\n",
      "375/375 [==============================] - 8s 20ms/step - loss: 0.0183 - accuracy: 0.9946 - val_loss: 0.0818 - val_accuracy: 0.9783\n",
      "Epoch 9/20\n",
      "375/375 [==============================] - 6s 16ms/step - loss: 0.0136 - accuracy: 0.9964 - val_loss: 0.0944 - val_accuracy: 0.9754\n",
      "Epoch 10/20\n",
      "375/375 [==============================] - 7s 18ms/step - loss: 0.0104 - accuracy: 0.9971 - val_loss: 0.0939 - val_accuracy: 0.9769\n",
      "Epoch 11/20\n",
      "375/375 [==============================] - 6s 15ms/step - loss: 0.0079 - accuracy: 0.9977 - val_loss: 0.0872 - val_accuracy: 0.9802\n",
      "Epoch 12/20\n",
      "375/375 [==============================] - 5s 14ms/step - loss: 0.0064 - accuracy: 0.9982 - val_loss: 0.0937 - val_accuracy: 0.9787\n",
      "Epoch 13/20\n",
      "375/375 [==============================] - 5s 14ms/step - loss: 0.0052 - accuracy: 0.9986 - val_loss: 0.0903 - val_accuracy: 0.9801\n",
      "Epoch 14/20\n",
      "375/375 [==============================] - 6s 15ms/step - loss: 0.0038 - accuracy: 0.9990 - val_loss: 0.1060 - val_accuracy: 0.9783\n",
      "Epoch 15/20\n",
      "375/375 [==============================] - 6s 15ms/step - loss: 0.0029 - accuracy: 0.9992 - val_loss: 0.0989 - val_accuracy: 0.9809\n",
      "Epoch 16/20\n",
      "375/375 [==============================] - 5s 14ms/step - loss: 0.0020 - accuracy: 0.9996 - val_loss: 0.1233 - val_accuracy: 0.9772\n",
      "Epoch 17/20\n",
      "375/375 [==============================] - 5s 14ms/step - loss: 0.0018 - accuracy: 0.9995 - val_loss: 0.1078 - val_accuracy: 0.9812\n",
      "Epoch 18/20\n",
      "375/375 [==============================] - 5s 14ms/step - loss: 0.0013 - accuracy: 0.9997 - val_loss: 0.1089 - val_accuracy: 0.9806\n",
      "Epoch 19/20\n",
      "375/375 [==============================] - 5s 14ms/step - loss: 0.0011 - accuracy: 0.9997 - val_loss: 0.1192 - val_accuracy: 0.9803\n",
      "Epoch 20/20\n",
      "375/375 [==============================] - 5s 14ms/step - loss: 8.0304e-04 - accuracy: 0.9998 - val_loss: 0.1204 - val_accuracy: 0.9808\n"
     ]
    }
   ],
   "source": [
    "history = model.fit(train_images, train_labels_one_hot, epochs=5, batch_size=128, validation_split = 0.2)"
   ]
  },
  {
   "cell_type": "markdown",
   "metadata": {},
   "source": [
    "fit() 함수를 통해서 학습 <br>\n",
    "epochs => 전체의 학습 데이터를 몇번 사용해서 학습 할 것인지에 대한 것 <br>\n",
    "epochs = 5 라는 것은 5번 사용한다는 것을 의미 <br>\n",
    "batch_size 는 경사하강법에서 한번에 몇개의 data points를 사용해서 weight를 업데이트 할 것인지에 대한 것 <br>\n",
    "batch_size=128 는 한번에 128개의 이미지를 사용해서 weight를 업데이트 한다는 것을 의미"
   ]
  },
  {
   "cell_type": "code",
   "execution_count": 24,
   "metadata": {},
   "outputs": [
    {
     "name": "stdout",
     "output_type": "stream",
     "text": [
      "313/313 [==============================] - 1s 2ms/step - loss: 0.0995 - accuracy: 0.9821\n"
     ]
    },
    {
     "data": {
      "text/plain": [
       "[0.09946753829717636, 0.9821000099182129]"
      ]
     },
     "execution_count": 24,
     "metadata": {},
     "output_type": "execute_result"
    }
   ],
   "source": [
    "model.evaluate(test_images, test_labels_one_hot)"
   ]
  },
  {
   "cell_type": "markdown",
   "metadata": {},
   "source": [
    "# 과적합 Check: 비용함수값 확인하기"
   ]
  },
  {
   "cell_type": "code",
   "execution_count": 25,
   "metadata": {},
   "outputs": [],
   "source": [
    "import matplotlib.pyplot as plt"
   ]
  },
  {
   "cell_type": "code",
   "execution_count": 26,
   "metadata": {},
   "outputs": [
    {
     "data": {
      "image/png": "[encoded data removed]",
      "text/plain": [
       "<Figure size 432x288 with 1 Axes>"
      ]
     },
     "metadata": {
      "needs_background": "light"
     },
     "output_type": "display_data"
    }
   ],
   "source": [
    "plt.plot(history.history['loss'])\n",
    "plt.plot(history.history['val_loss'])\n",
    "plt.xlabel('epoch')\n",
    "plt.ylabel('loss')\n",
    "plt.legend(['train', 'val'])\n",
    "plt.show()"
   ]
  }
 ],
 "metadata": {
  "kernelspec": {
   "display_name": "Python 3",
   "language": "python",
   "name": "python3"
  },
  "language_info": {
   "codemirror_mode": {
    "name": "ipython",
    "version": 3
   },
   "file_extension": ".py",
   "mimetype": "text/x-python",
   "name": "python",
   "nbconvert_exporter": "python",
   "pygments_lexer": "ipython3",
   "version": "3.8.5"
  }
 },
 "nbformat": 4,
 "nbformat_minor": 2
}
