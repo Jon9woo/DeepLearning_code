{
 "cells": [
  {
   "cell_type": "code",
   "execution_count": 1,
   "metadata": {},
   "outputs": [],
   "source": [
    "import tensorflow as tf\n",
    "from tensorflow.keras import datasets, layers, models, optimizers"
   ]
  },
  {
   "cell_type": "code",
   "execution_count": 2,
   "metadata": {},
   "outputs": [],
   "source": [
    "import math\n",
    "import numpy as np\n",
    "from glob import glob\n",
    "from tensorflow.keras.preprocessing import image"
   ]
  },
  {
   "cell_type": "code",
   "execution_count": 22,
   "metadata": {},
   "outputs": [],
   "source": [
    "IMG_CHANNELS = 3\n",
    "IMG_ROWS = 32\n",
    "IMG_COLS = 32\n",
    "CLASSES = 2"
   ]
  },
  {
   "cell_type": "code",
   "execution_count": 4,
   "metadata": {},
   "outputs": [],
   "source": [
    "#define the convnet \n",
    "def build(input_shape, classes):\n",
    "    model = models.Sequential() \n",
    "    model.add(layers.Convolution2D(32, (3, 3), activation='relu',\n",
    "                        input_shape=input_shape))\n",
    "    model.add(layers.MaxPooling2D(pool_size=(2, 2)))\n",
    "    model.add(layers.Dropout(0.25)) \n",
    "\n",
    "    model.add(layers.Flatten())\n",
    "    model.add(layers.Dense(512, activation='relu'))\n",
    "    model.add(layers.Dropout(0.5))\n",
    "    model.add(layers.Dense(classes, activation='softmax'))\n",
    "    return model"
   ]
  },
  {
   "cell_type": "code",
   "execution_count": 5,
   "metadata": {},
   "outputs": [],
   "source": [
    "images = [image.load_img(p, target_size=(32, 32))\n",
    "          for p in glob('cats_dogs/cats/*jpg') + glob('cats_dogs/dogs/*jpg')]\n",
    "image_vector = np.asarray([image.img_to_array(img) for img in images])"
   ]
  },
  {
   "cell_type": "code",
   "execution_count": 23,
   "metadata": {},
   "outputs": [
    {
     "data": {
      "text/plain": [
       "(2000, 32, 32, 3)"
      ]
     },
     "execution_count": 23,
     "metadata": {},
     "output_type": "execute_result"
    }
   ],
   "source": [
    "image_vector.shape"
   ]
  },
  {
   "cell_type": "code",
   "execution_count": 6,
   "metadata": {},
   "outputs": [],
   "source": [
    "y=[1] * 1000 + [0] * 1000"
   ]
  },
  {
   "cell_type": "code",
   "execution_count": 7,
   "metadata": {},
   "outputs": [],
   "source": [
    "from sklearn.model_selection import train_test_split  \n",
    "X_train, X_test, y_train, y_test = train_test_split(image_vector, y, test_size=0.20, random_state=42)"
   ]
  },
  {
   "cell_type": "code",
   "execution_count": 8,
   "metadata": {},
   "outputs": [
    {
     "data": {
      "text/plain": [
       "(1600, 32, 32, 3)"
      ]
     },
     "execution_count": 8,
     "metadata": {},
     "output_type": "execute_result"
    }
   ],
   "source": [
    "X_train.shape"
   ]
  },
  {
   "cell_type": "code",
   "execution_count": 9,
   "metadata": {},
   "outputs": [],
   "source": [
    "X_train, X_test = X_train / 255.0, X_test / 255.0\n",
    "# convert to categorical\n",
    "# convert class vectors to binary class matrices\n",
    "y_train = tf.keras.utils.to_categorical(y_train, 2)\n",
    "y_test = tf.keras.utils.to_categorical(y_test, 2)"
   ]
  },
  {
   "cell_type": "code",
   "execution_count": 10,
   "metadata": {},
   "outputs": [
    {
     "data": {
      "text/plain": [
       "array([1., 0.], dtype=float32)"
      ]
     },
     "execution_count": 10,
     "metadata": {},
     "output_type": "execute_result"
    }
   ],
   "source": [
    "y_test[0]"
   ]
  },
  {
   "cell_type": "code",
   "execution_count": 10,
   "metadata": {},
   "outputs": [
    {
     "name": "stdout",
     "output_type": "stream",
     "text": [
      "Model: \"sequential\"\n",
      "_________________________________________________________________\n",
      "Layer (type)                 Output Shape              Param #   \n",
      "=================================================================\n",
      "conv2d (Conv2D)              (None, 30, 30, 32)        896       \n",
      "_________________________________________________________________\n",
      "max_pooling2d (MaxPooling2D) (None, 15, 15, 32)        0         \n",
      "_________________________________________________________________\n",
      "dropout (Dropout)            (None, 15, 15, 32)        0         \n",
      "_________________________________________________________________\n",
      "flatten (Flatten)            (None, 7200)              0         \n",
      "_________________________________________________________________\n",
      "dense (Dense)                (None, 512)               3686912   \n",
      "_________________________________________________________________\n",
      "dropout_1 (Dropout)          (None, 512)               0         \n",
      "_________________________________________________________________\n",
      "dense_1 (Dense)              (None, 2)                 1026      \n",
      "=================================================================\n",
      "Total params: 3,688,834\n",
      "Trainable params: 3,688,834\n",
      "Non-trainable params: 0\n",
      "_________________________________________________________________\n"
     ]
    }
   ],
   "source": [
    "model=build((IMG_ROWS, IMG_COLS, IMG_CHANNELS), CLASSES)\n",
    "model.summary()"
   ]
  },
  {
   "cell_type": "code",
   "execution_count": 24,
   "metadata": {},
   "outputs": [
    {
     "name": "stdout",
     "output_type": "stream",
     "text": [
      "Epoch 1/50\n",
      "12/12 [==============================] - 0s 17ms/step - loss: 0.2265 - accuracy: 0.9569 - val_loss: 1.3089 - val_accuracy: 0.6875\n",
      "Epoch 2/50\n",
      "12/12 [==============================] - 0s 9ms/step - loss: 0.1004 - accuracy: 0.9701 - val_loss: 1.2939 - val_accuracy: 0.6750\n",
      "Epoch 3/50\n",
      "12/12 [==============================] - 0s 8ms/step - loss: 0.0668 - accuracy: 0.9778 - val_loss: 1.2210 - val_accuracy: 0.6875\n",
      "Epoch 4/50\n",
      "12/12 [==============================] - 0s 9ms/step - loss: 0.0282 - accuracy: 0.9903 - val_loss: 1.4383 - val_accuracy: 0.6750\n",
      "Epoch 5/50\n",
      "12/12 [==============================] - 0s 8ms/step - loss: 0.0572 - accuracy: 0.9771 - val_loss: 1.1976 - val_accuracy: 0.6687\n",
      "Epoch 6/50\n",
      "12/12 [==============================] - 0s 8ms/step - loss: 0.0166 - accuracy: 0.9951 - val_loss: 1.3287 - val_accuracy: 0.7063\n",
      "Epoch 7/50\n",
      "12/12 [==============================] - 0s 9ms/step - loss: 0.0094 - accuracy: 0.9993 - val_loss: 1.5129 - val_accuracy: 0.6875\n",
      "Epoch 8/50\n",
      "12/12 [==============================] - 0s 9ms/step - loss: 0.0091 - accuracy: 0.9965 - val_loss: 1.4813 - val_accuracy: 0.6938\n",
      "Epoch 9/50\n",
      "12/12 [==============================] - 0s 8ms/step - loss: 0.0032 - accuracy: 1.0000 - val_loss: 1.5188 - val_accuracy: 0.7000\n",
      "Epoch 10/50\n",
      "12/12 [==============================] - 0s 8ms/step - loss: 0.0023 - accuracy: 1.0000 - val_loss: 2.0168 - val_accuracy: 0.6938\n",
      "Epoch 11/50\n",
      "12/12 [==============================] - 0s 8ms/step - loss: 0.0200 - accuracy: 0.9951 - val_loss: 1.5457 - val_accuracy: 0.6938\n",
      "Epoch 12/50\n",
      "12/12 [==============================] - 0s 8ms/step - loss: 0.0126 - accuracy: 0.9944 - val_loss: 1.5184 - val_accuracy: 0.6875\n",
      "Epoch 13/50\n",
      "12/12 [==============================] - 0s 8ms/step - loss: 0.0022 - accuracy: 0.9993 - val_loss: 1.6123 - val_accuracy: 0.6938\n",
      "Epoch 14/50\n",
      "12/12 [==============================] - 0s 8ms/step - loss: 0.0061 - accuracy: 0.9979 - val_loss: 1.7106 - val_accuracy: 0.6875\n",
      "Epoch 15/50\n",
      "12/12 [==============================] - 0s 8ms/step - loss: 0.0040 - accuracy: 0.9979 - val_loss: 1.8792 - val_accuracy: 0.6750\n",
      "Epoch 16/50\n",
      "12/12 [==============================] - 0s 7ms/step - loss: 0.0011 - accuracy: 1.0000 - val_loss: 1.8071 - val_accuracy: 0.6750\n",
      "Epoch 17/50\n",
      "12/12 [==============================] - 0s 8ms/step - loss: 0.0019 - accuracy: 0.9993 - val_loss: 1.9191 - val_accuracy: 0.6750\n",
      "Epoch 18/50\n",
      "12/12 [==============================] - 0s 8ms/step - loss: 0.0095 - accuracy: 0.9958 - val_loss: 1.7313 - val_accuracy: 0.6750\n",
      "Epoch 19/50\n",
      "12/12 [==============================] - 0s 8ms/step - loss: 0.0010 - accuracy: 1.0000 - val_loss: 1.7204 - val_accuracy: 0.6750\n",
      "Epoch 20/50\n",
      "12/12 [==============================] - 0s 8ms/step - loss: 0.0013 - accuracy: 1.0000 - val_loss: 1.8647 - val_accuracy: 0.6750\n",
      "Epoch 21/50\n",
      "12/12 [==============================] - 0s 9ms/step - loss: 0.0053 - accuracy: 0.9986 - val_loss: 1.7878 - val_accuracy: 0.7063\n",
      "Epoch 22/50\n",
      "12/12 [==============================] - 0s 8ms/step - loss: 0.0029 - accuracy: 0.9993 - val_loss: 1.7768 - val_accuracy: 0.6812\n",
      "Epoch 23/50\n",
      "12/12 [==============================] - 0s 9ms/step - loss: 9.4438e-04 - accuracy: 1.0000 - val_loss: 1.9859 - val_accuracy: 0.7125\n",
      "Epoch 24/50\n",
      "12/12 [==============================] - 0s 8ms/step - loss: 3.9183e-04 - accuracy: 1.0000 - val_loss: 1.8912 - val_accuracy: 0.7188\n",
      "Epoch 25/50\n",
      "12/12 [==============================] - ETA: 0s - loss: 5.7239e-04 - accuracy: 1.00 - 0s 8ms/step - loss: 5.8842e-04 - accuracy: 1.0000 - val_loss: 1.8710 - val_accuracy: 0.6687\n",
      "Epoch 26/50\n",
      "12/12 [==============================] - 0s 8ms/step - loss: 0.0101 - accuracy: 0.9958 - val_loss: 1.6755 - val_accuracy: 0.7125\n",
      "Epoch 27/50\n",
      "12/12 [==============================] - 0s 9ms/step - loss: 0.0025 - accuracy: 0.9993 - val_loss: 1.7514 - val_accuracy: 0.7063\n",
      "Epoch 28/50\n",
      "12/12 [==============================] - 0s 9ms/step - loss: 0.0010 - accuracy: 1.0000 - val_loss: 1.7579 - val_accuracy: 0.6875\n",
      "Epoch 29/50\n",
      "12/12 [==============================] - 0s 8ms/step - loss: 5.1461e-04 - accuracy: 1.0000 - val_loss: 1.7402 - val_accuracy: 0.7063\n",
      "Epoch 30/50\n",
      "12/12 [==============================] - 0s 8ms/step - loss: 2.8411e-04 - accuracy: 1.0000 - val_loss: 1.8436 - val_accuracy: 0.6938\n",
      "Epoch 31/50\n",
      "12/12 [==============================] - 0s 8ms/step - loss: 0.0011 - accuracy: 1.0000 - val_loss: 1.9569 - val_accuracy: 0.6750\n",
      "Epoch 32/50\n",
      "12/12 [==============================] - 0s 9ms/step - loss: 9.8675e-04 - accuracy: 1.0000 - val_loss: 1.8057 - val_accuracy: 0.7000\n",
      "Epoch 33/50\n",
      "12/12 [==============================] - 0s 9ms/step - loss: 0.0076 - accuracy: 0.9993 - val_loss: 1.8750 - val_accuracy: 0.7000\n",
      "Epoch 34/50\n",
      "12/12 [==============================] - 0s 9ms/step - loss: 0.0030 - accuracy: 0.9986 - val_loss: 1.8795 - val_accuracy: 0.6875\n",
      "Epoch 35/50\n",
      "12/12 [==============================] - 0s 8ms/step - loss: 0.0018 - accuracy: 0.9993 - val_loss: 1.8350 - val_accuracy: 0.6875\n",
      "Epoch 36/50\n",
      "12/12 [==============================] - 0s 9ms/step - loss: 2.4789e-04 - accuracy: 1.0000 - val_loss: 1.9335 - val_accuracy: 0.7063\n",
      "Epoch 37/50\n",
      "12/12 [==============================] - 0s 9ms/step - loss: 0.0077 - accuracy: 0.9986 - val_loss: 1.8525 - val_accuracy: 0.6812\n",
      "Epoch 38/50\n",
      "12/12 [==============================] - 0s 8ms/step - loss: 4.8201e-04 - accuracy: 1.0000 - val_loss: 1.8418 - val_accuracy: 0.7000\n",
      "Epoch 39/50\n",
      "12/12 [==============================] - 0s 8ms/step - loss: 6.5425e-04 - accuracy: 1.0000 - val_loss: 1.9266 - val_accuracy: 0.7063\n",
      "Epoch 40/50\n",
      "12/12 [==============================] - 0s 7ms/step - loss: 6.0618e-04 - accuracy: 1.0000 - val_loss: 1.9410 - val_accuracy: 0.6562\n",
      "Epoch 41/50\n",
      "12/12 [==============================] - 0s 8ms/step - loss: 0.0049 - accuracy: 0.9986 - val_loss: 1.8501 - val_accuracy: 0.6938\n",
      "Epoch 42/50\n",
      "12/12 [==============================] - 0s 9ms/step - loss: 9.8033e-04 - accuracy: 0.9993 - val_loss: 1.9523 - val_accuracy: 0.6750\n",
      "Epoch 43/50\n",
      "12/12 [==============================] - 0s 8ms/step - loss: 0.0014 - accuracy: 0.9993 - val_loss: 1.9511 - val_accuracy: 0.6625\n",
      "Epoch 44/50\n",
      "12/12 [==============================] - 0s 8ms/step - loss: 5.2061e-04 - accuracy: 1.0000 - val_loss: 2.0910 - val_accuracy: 0.6687\n",
      "Epoch 45/50\n",
      "12/12 [==============================] - 0s 8ms/step - loss: 0.0010 - accuracy: 1.0000 - val_loss: 2.1899 - val_accuracy: 0.6875\n",
      "Epoch 46/50\n",
      "12/12 [==============================] - 0s 10ms/step - loss: 0.0020 - accuracy: 0.9993 - val_loss: 2.5153 - val_accuracy: 0.7000\n",
      "Epoch 47/50\n",
      "12/12 [==============================] - 0s 7ms/step - loss: 7.4445e-04 - accuracy: 1.0000 - val_loss: 2.0235 - val_accuracy: 0.6875\n",
      "Epoch 48/50\n",
      "12/12 [==============================] - 0s 8ms/step - loss: 3.5903e-04 - accuracy: 1.0000 - val_loss: 1.9275 - val_accuracy: 0.6938\n",
      "Epoch 49/50\n",
      "12/12 [==============================] - 0s 8ms/step - loss: 1.4158e-04 - accuracy: 1.0000 - val_loss: 1.9641 - val_accuracy: 0.7000\n",
      "Epoch 50/50\n",
      "12/12 [==============================] - 0s 8ms/step - loss: 7.6175e-05 - accuracy: 1.0000 - val_loss: 2.0025 - val_accuracy: 0.6938\n"
     ]
    }
   ],
   "source": [
    "model.compile(loss='categorical_crossentropy', optimizer=optimizers.RMSprop(learning_rate=0.001), metrics=['accuracy'])\n",
    " \n",
    "history = model.fit(X_train, y_train, batch_size=128, epochs=50, validation_split=0.1, verbose=1) \n",
    "#history = model.fit(X_train, y_train, batch_size=128, epochs=50, validation_split=0.2, verbose=1) \n",
    "# 학습데이터에 있는 관측치의수 = 1600*0.8 = 1280\n",
    "# 따라서 각 epoch에 대해서 10번 업데이트 발생\n",
    "# 그런데 validation_split을 0.1로 하는 경우에는, 1440, 1440/128 = 11.25\n",
    "# Keras의 경우는 마지막 mini-batch를 사용한다. 마지막 mini-batch에 존재하는 관측치의 수는 32 (=1440-11*128)"
   ]
  },
  {
   "cell_type": "code",
   "execution_count": 20,
   "metadata": {},
   "outputs": [
    {
     "name": "stdout",
     "output_type": "stream",
     "text": [
      "4/4 [==============================] - 0s 0s/step - loss: 2.1918 - accuracy: 0.6600\n",
      "\n",
      "Test loss: 2.191793203353882\n",
      "Test accuracy: 0.6600000262260437\n"
     ]
    }
   ],
   "source": [
    "score = model.evaluate(X_test, y_test, batch_size=BATCH_SIZE, verbose=VERBOSE)\n",
    "print(\"\\nTest loss:\", score[0])\n",
    "print('Test accuracy:', score[1])"
   ]
  },
  {
   "cell_type": "code",
   "execution_count": 18,
   "metadata": {},
   "outputs": [
    {
     "data": {
      "image/png": "[encoded data removed]",
      "text/plain": [
       "<Figure size 432x288 with 1 Axes>"
      ]
     },
     "metadata": {
      "needs_background": "light"
     },
     "output_type": "display_data"
    }
   ],
   "source": [
    "import matplotlib.pyplot as plt\n",
    "plt.plot(history.history['loss'])\n",
    "plt.plot(history.history['val_loss'])\n",
    "plt.xlabel('epoch')\n",
    "plt.ylabel('loss')\n",
    "plt.legend(['train','val'])\n",
    "plt.show()"
   ]
  },
  {
   "cell_type": "code",
   "execution_count": 19,
   "metadata": {},
   "outputs": [
    {
     "data": {
      "image/png": "[encoded data removed]",
      "text/plain": [
       "<Figure size 432x288 with 1 Axes>"
      ]
     },
     "metadata": {
      "needs_background": "light"
     },
     "output_type": "display_data"
    }
   ],
   "source": [
    "plt.plot(history.history['accuracy'])\n",
    "plt.plot(history.history['val_accuracy'])\n",
    "plt.xlabel('epoch')\n",
    "plt.ylabel('accuracy')\n",
    "plt.legend(['train','val'])\n",
    "plt.show()"
   ]
  },
  {
   "cell_type": "code",
   "execution_count": null,
   "metadata": {},
   "outputs": [],
   "source": []
  }
 ],
 "metadata": {
  "kernelspec": {
   "display_name": "Python 3",
   "language": "python",
   "name": "python3"
  },
  "language_info": {
   "codemirror_mode": {
    "name": "ipython",
    "version": 3
   },
   "file_extension": ".py",
   "mimetype": "text/x-python",
   "name": "python",
   "nbconvert_exporter": "python",
   "pygments_lexer": "ipython3",
   "version": "3.8.8"
  }
 },
 "nbformat": 4,
 "nbformat_minor": 2
}
